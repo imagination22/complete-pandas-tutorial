{
 "cells": [
  {
   "cell_type": "markdown",
   "id": "c07386f3",
   "metadata": {},
   "source": [
    "## Problem Statement\n",
    "Write a Python program to determine whether a given number is **odd** or **even**.\n",
    "\n",
    "## Example\n",
    "\n",
    "### Input:\n",
    "\n",
    "## Code:\n",
    "```python\n",
    "# Input from the user\n",
    "num = int(input(\"Enter a number: \"))\n",
    "\n",
    "# Check if the number is even or odd\n",
    "if num % 2 == 0:\n",
    "    print(\"The number is even.\")\n",
    "else:\n",
    "    print(\"The number is odd.\")\n",
    "- The input should be an integer.\n",
    "- The program should correctly classify even and odd numbers.\n"
   ]
  },
  {
   "cell_type": "code",
   "execution_count": 2,
   "id": "4e3e30f6",
   "metadata": {},
   "outputs": [
    {
     "name": "stdout",
     "output_type": "stream",
     "text": [
      "a is even, b is odd\n"
     ]
    }
   ],
   "source": [
    "a = 6\n",
    "b = 7\n",
    "\n",
    "if a % 2  == 0:\n",
    "    if b % 2 == 0:\n",
    "        print(\"Both a and b are even\")\n",
    "    else:\n",
    "        print(\"a is even, b is odd\")\n",
    "else:\n",
    "    if b % 2 == 0:\n",
    "        print(\"a is odd, b is even\")\n",
    "    else:\n",
    "        print(\"Both a and b are odd\")"
   ]
  }
 ],
 "metadata": {
  "kernelspec": {
   "display_name": "Python 3",
   "language": "python",
   "name": "python3"
  },
  "language_info": {
   "codemirror_mode": {
    "name": "ipython",
    "version": 3
   },
   "file_extension": ".py",
   "mimetype": "text/x-python",
   "name": "python",
   "nbconvert_exporter": "python",
   "pygments_lexer": "ipython3",
   "version": "3.13.3"
  }
 },
 "nbformat": 4,
 "nbformat_minor": 5
}
