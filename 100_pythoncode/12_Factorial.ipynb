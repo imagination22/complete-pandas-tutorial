{
 "cells": [
  {
   "cell_type": "markdown",
   "id": "27f0ea35",
   "metadata": {},
   "source": [
    "# Factorial Calculation in Python\n",
    "\n",
    "## Problem Statement\n",
    "Write a Python program to compute the **factorial** of a given number.\n",
    "\n",
    "## Example\n",
    "\n",
    "### Input:\n",
    "\n",
    "\n",
    "## Constraints\n",
    "The input should be a non-negative integer.\n",
    "\n",
    "Factorial of 0 is defined as 1."
   ]
  },
  {
   "cell_type": "code",
   "execution_count": 5,
   "id": "c7c44623",
   "metadata": {},
   "outputs": [
    {
     "name": "stdout",
     "output_type": "stream",
     "text": [
      "5! = 120\n",
      "5! = 120\n",
      "-5! = Factorial is not defined for negative numbers\n",
      "-5! = Factorial is not defined for negative numbers\n"
     ]
    }
   ],
   "source": [
    "def fact_loop(n):\n",
    "    fact = 1 \n",
    "    if n < 0:\n",
    "        return \"Factorial is not defined for negative numbers\"\n",
    "    if n == 0 or n == 1 :\n",
    "        return 1 \n",
    "    elif n > 1 :\n",
    "        for i in range(1,n+1):\n",
    "            fact *= i\n",
    "        return fact\n",
    "\n",
    "def fact_rec(n):\n",
    "    fact = 1\n",
    "    if n < 0:\n",
    "        return \"Factorial is not defined for negative numbers\"\n",
    "    # Base case \n",
    "    elif n== 0 or n==1 :\n",
    "        return 1 \n",
    "    elif n > 1 : \n",
    "        return n * fact_rec(n-1)\n",
    "\n",
    "n= 5\n",
    "result = fact_loop(n)\n",
    "print(f\"{n}! = {result}\")\n",
    "\n",
    "result_rec= fact_rec(n)\n",
    "print(f\"{n}! = {result_rec}\")\n",
    "\n",
    "n = -5\n",
    "result = fact_loop(n)\n",
    "print(f\"{n}! = {result}\")\n",
    "\n",
    "result_rec= fact_rec(n)\n",
    "print(f\"{n}! = {result_rec}\")\n",
    "\n"
   ]
  }
 ],
 "metadata": {
  "kernelspec": {
   "display_name": "Python 3",
   "language": "python",
   "name": "python3"
  },
  "language_info": {
   "codemirror_mode": {
    "name": "ipython",
    "version": 3
   },
   "file_extension": ".py",
   "mimetype": "text/x-python",
   "name": "python",
   "nbconvert_exporter": "python",
   "pygments_lexer": "ipython3",
   "version": "3.13.3"
  }
 },
 "nbformat": 4,
 "nbformat_minor": 5
}
