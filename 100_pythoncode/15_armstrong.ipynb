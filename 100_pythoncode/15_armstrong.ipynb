{
 "cells": [
  {
   "cell_type": "markdown",
   "id": "1ef79f4e",
   "metadata": {},
   "source": [
    "# Check If a Number is an Armstrong Number in Python\n",
    "\n",
    "## Problem Statement\n",
    "Write a Python program to determine whether a given number is an **Armstrong number**.\n",
    "\n",
    "## Example\n",
    "\n",
    "### Input:\n",
    "\n",
    "\n",
    "## Code:\n",
    "```python\n",
    "# Input from the user\n",
    "num = int(input(\"Enter a number: \"))\n",
    "\n",
    "# Calculate the number of digits\n",
    "order = len(str(num))\n",
    "\n",
    "# Compute the sum of digits raised to the power of order\n",
    "sum_digits = sum(int(digit) ** order for digit in str(num))\n",
    "\n",
    "# Check if the number is an Armstrong number\n",
    "if num == sum_digits:\n",
    "    print(num, \"is an Armstrong number.\")\n",
    "else:\n",
    "    print(num, \"is not an Armstrong number.\")\n"
   ]
  },
  {
   "cell_type": "code",
   "execution_count": 25,
   "id": "7b7496be",
   "metadata": {},
   "outputs": [
    {
     "name": "stdout",
     "output_type": "stream",
     "text": [
      "153 is Armstrong Number\n",
      "54748 is Armstrong Number\n",
      "9474 is Armstrong Number\n",
      "[1, 2, 3, 4, 5, 6, 7, 8, 9, 153, 370, 371, 407, 1634, 8208, 9474]\n"
     ]
    }
   ],
   "source": [
    "number = 153\n",
    "def armstrong(number):\n",
    "    \"\"\"Check if a number is an Armstrong number.\"\"\"\n",
    "    # Convert the number to string to iterate over digits\n",
    "    str_num = str(number)\n",
    "    a = []\n",
    "    res = 0\n",
    "    for i in str_num:\n",
    "        j = int(i)\n",
    "        a.append(j)\n",
    "    length = len(a)\n",
    "    for i in range(0, length):\n",
    "        res += a[i]**length\n",
    "    if res == number:\n",
    "        print(f\"{number} is Armstrong Number\")\n",
    "    else:\n",
    "        print(f\"{res} is not armstrong\")\n",
    "\n",
    "armstrong(153)\n",
    "armstrong(54748)\n",
    "armstrong(9474)\n",
    "\n",
    "def aremstrong_range(start, end):\n",
    "    \"\"\"Find all Armstrong numbers in a given range.\"\"\"\n",
    "    armstrong_numbers = []\n",
    "    for num in range(start, end + 1):\n",
    "        str_num = str(num)\n",
    "        length = len(str_num)\n",
    "        res = sum(int(digit) ** length for digit in str_num)\n",
    "        if res == num:\n",
    "            armstrong_numbers.append(num)\n",
    "    return armstrong_numbers\n",
    "# Example usage of the aremstrong_range function        \n",
    "print(aremstrong_range(1, 10000))  # Output: [1, 2, 3, 4, 5, 6, 7, 8, 9, 153, 370, 371, 407]"
   ]
  }
 ],
 "metadata": {
  "kernelspec": {
   "display_name": "Python 3",
   "language": "python",
   "name": "python3"
  },
  "language_info": {
   "codemirror_mode": {
    "name": "ipython",
    "version": 3
   },
   "file_extension": ".py",
   "mimetype": "text/x-python",
   "name": "python",
   "nbconvert_exporter": "python",
   "pygments_lexer": "ipython3",
   "version": "3.13.3"
  }
 },
 "nbformat": 4,
 "nbformat_minor": 5
}
