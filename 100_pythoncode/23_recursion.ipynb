{
 "cells": [
  {
   "cell_type": "code",
   "execution_count": 1,
   "id": "fccd9bc7",
   "metadata": {},
   "outputs": [
    {
     "name": "stdout",
     "output_type": "stream",
     "text": [
      "Fibonacci series:\n",
      "0 1 1 2 3 5 8 13 21 34 55 "
     ]
    }
   ],
   "source": [
    "n= 10\n",
    "def fibonacci(n):\n",
    "    if n <= 1:\n",
    "        return n\n",
    "    else :\n",
    "        return fibonacci(n-1) + fibonacci(n-2)\n",
    "# Input from the user\n",
    "print(\"Fibonacci series:\")\n",
    "for i in range(n+1):\n",
    "    print(fibonacci(i), end=' ')"
   ]
  },
  {
   "cell_type": "code",
   "execution_count": 4,
   "id": "5e0ff854",
   "metadata": {},
   "outputs": [
    {
     "name": "stdout",
     "output_type": "stream",
     "text": [
      "\n",
      "Factorial of 10 is: 3628800\n"
     ]
    }
   ],
   "source": [
    "def fact_rec(n):\n",
    "    fact = 1\n",
    "    if n < 0:\n",
    "        return \"Factorial is not defined for negative numbers\"\n",
    "    # Base case \n",
    "    elif n== 0 or n==1 :\n",
    "        return 1 \n",
    "    elif n > 1 : \n",
    "        return n * fact_rec(n-1)\n",
    "# Input from the user\n",
    "print(\"\\nFactorial of\", n, \"is:\", fact_rec(n))"
   ]
  },
  {
   "cell_type": "code",
   "execution_count": 3,
   "id": "ba8a35dc",
   "metadata": {},
   "outputs": [
    {
     "name": "stdout",
     "output_type": "stream",
     "text": [
      "The sum of the first 10 natural numbers is: 55\n"
     ]
    }
   ],
   "source": [
    "def  sum_natural_numbers(n):\n",
    "    \"\"\"Returns the sum of the first n natural numbers.\"\"\"\n",
    "    if n < 1:\n",
    "        return n\n",
    "    else:\n",
    "        return n + sum_natural_numbers(n - 1)\n",
    "print(\"The sum of the first 10 natural numbers is:\", sum_natural_numbers(10))"
   ]
  }
 ],
 "metadata": {
  "kernelspec": {
   "display_name": "Python 3",
   "language": "python",
   "name": "python3"
  },
  "language_info": {
   "codemirror_mode": {
    "name": "ipython",
    "version": 3
   },
   "file_extension": ".py",
   "mimetype": "text/x-python",
   "name": "python",
   "nbconvert_exporter": "python",
   "pygments_lexer": "ipython3",
   "version": "3.13.3"
  }
 },
 "nbformat": 4,
 "nbformat_minor": 5
}
