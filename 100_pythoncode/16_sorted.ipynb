{
 "cells": [
  {
   "cell_type": "markdown",
   "id": "7ccf3f29",
   "metadata": {},
   "source": [
    "## Parameters\n",
    "\n",
    "sorted(iterable, key=None, reverse=False)\n",
    "\n",
    "iterable (Required) – The sequence to be sorted (list, tuple, set, dictionary, etc.).\n",
    "\n",
    "key (Optional) – A function that defines the sorting criteria.\n",
    "\n",
    "reverse (Optional) – If True, sorts in descending order; default is False (ascending order)."
   ]
  },
  {
   "cell_type": "markdown",
   "id": "fd74cc02",
   "metadata": {},
   "source": []
  },
  {
   "cell_type": "code",
   "execution_count": 2,
   "id": "d04301db",
   "metadata": {},
   "outputs": [
    {
     "name": "stdout",
     "output_type": "stream",
     "text": [
      "['date', 'apple', 'banana', 'cherry']\n",
      "{'apple', 'banana', 'cherry', 'date'}\n"
     ]
    }
   ],
   "source": [
    "words = {\"apple\", \"banana\", \"cherry\", \"date\"}\n",
    "sorted_words = sorted(words, key=len)\n",
    "print(sorted_words)  # Output: ['date', 'apple', 'banana', 'cherry']\n",
    "print(words)"
   ]
  },
  {
   "cell_type": "code",
   "execution_count": 5,
   "id": "62a43330",
   "metadata": {},
   "outputs": [
    {
     "name": "stdout",
     "output_type": "stream",
     "text": [
      "[('Charlie', 95), ('Alice', 90), ('Bob', 85)]\n"
     ]
    }
   ],
   "source": [
    "students = [(\"Alice\", 90), (\"Bob\", 85), (\"Charlie\", 95)]\n",
    "sorted_students = sorted(students, key=lambda x: x[1],reverse=True)\n",
    "print(sorted_students)  # Output: [('Bob', 85), ('Alice', 90), ('Charlie', 95)]\n"
   ]
  }
 ],
 "metadata": {
  "kernelspec": {
   "display_name": "Python 3",
   "language": "python",
   "name": "python3"
  },
  "language_info": {
   "codemirror_mode": {
    "name": "ipython",
    "version": 3
   },
   "file_extension": ".py",
   "mimetype": "text/x-python",
   "name": "python",
   "nbconvert_exporter": "python",
   "pygments_lexer": "ipython3",
   "version": "3.13.3"
  }
 },
 "nbformat": 4,
 "nbformat_minor": 5
}
