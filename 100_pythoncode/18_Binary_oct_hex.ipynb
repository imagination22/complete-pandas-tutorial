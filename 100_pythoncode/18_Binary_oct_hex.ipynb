{
 "cells": [
  {
   "cell_type": "markdown",
   "id": "b8ca3d5e",
   "metadata": {},
   "source": [
    "# convert decimal to binary , oct and hexadecimal"
   ]
  },
  {
   "cell_type": "code",
   "execution_count": 2,
   "id": "f7ac9b79",
   "metadata": {},
   "outputs": [
    {
     "name": "stdout",
     "output_type": "stream",
     "text": [
      "<class 'int'>\n",
      "0b1010 : is in binary\n",
      "0o12 : is in Octadecimal\n",
      "0xa : is in Hexadecimal\n"
     ]
    }
   ],
   "source": [
    "decimal = 10\n",
    "print(type(decimal))\n",
    "\n",
    "print(bin(decimal),\": is in binary\")\n",
    "print(oct(decimal),\": is in Octadecimal\")\n",
    "print(hex(decimal),\": is in Hexadecimal\")"
   ]
  },
  {
   "cell_type": "markdown",
   "id": "5dd6eed1",
   "metadata": {},
   "source": [
    "# ASCII Value of character"
   ]
  },
  {
   "cell_type": "code",
   "execution_count": 5,
   "id": "edce4b62",
   "metadata": {},
   "outputs": [
    {
     "name": "stdout",
     "output_type": "stream",
     "text": [
      "97 : is the ASCII value of a\n",
      "65 : is the ASCII value of A\n",
      "a : is the character for ASCII value 97\n",
      "A : is the character for ASCII value 65\n"
     ]
    }
   ],
   "source": [
    "variable = \"a\"\n",
    "print(ord(variable),\": is the ASCII value of\", variable)\n",
    "capital = \"A\"\n",
    "print(ord(capital),\": is the ASCII value of\", capital)\n",
    "print(chr(97),\": is the character for ASCII value 97\")  \n",
    "print(chr(65),\": is the character for ASCII value 65\")\n"
   ]
  },
  {
   "cell_type": "code",
   "execution_count": 11,
   "id": "d2550ae5",
   "metadata": {},
   "outputs": [
    {
     "name": "stdout",
     "output_type": "stream",
     "text": [
      "The binary representation of 15 is 0b1111\n",
      "[1, 1, 1, 1]\n",
      "1111\n",
      "The binary representation of 15 is 1111\n"
     ]
    }
   ],
   "source": [
    "n = 15 \n",
    "print(\"The binary representation of\", n, \"is\", bin(n))\n",
    "m=n\n",
    "list_a = []\n",
    "while m > 0 :\n",
    "    rem = m%2\n",
    "    list_a.append(rem)\n",
    "    m = m // 2\n",
    "list_a.reverse()\n",
    "bin_n = ''.join(map(str, list_a))\n",
    "print(list_a)\n",
    "print(bin_n)\n",
    "print(\"The binary representation of\", n, \"is\", bin_n)\n",
    "    \n",
    "    "
   ]
  }
 ],
 "metadata": {
  "kernelspec": {
   "display_name": "Python 3",
   "language": "python",
   "name": "python3"
  },
  "language_info": {
   "codemirror_mode": {
    "name": "ipython",
    "version": 3
   },
   "file_extension": ".py",
   "mimetype": "text/x-python",
   "name": "python",
   "nbconvert_exporter": "python",
   "pygments_lexer": "ipython3",
   "version": "3.13.3"
  }
 },
 "nbformat": 4,
 "nbformat_minor": 5
}
