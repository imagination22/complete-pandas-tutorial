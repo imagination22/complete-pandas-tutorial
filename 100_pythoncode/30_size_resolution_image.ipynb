{
 "cells": [
  {
   "cell_type": "markdown",
   "id": "7ded2d37",
   "metadata": {},
   "source": [
    "# Find Image Size / Resolution in Python\n",
    "\n",
    "## 1. Question\n",
    "How can we determine the size or resolution of an image using Python?\n",
    "\n",
    "## 2. Case\n",
    "- **Input:** The file path of an image.\n",
    "- **Output:** The width and height of the image (resolution).\n",
    "\n",
    "## 3. Example\n",
    "### Example 1:\n",
    "**Input:** `\"example.jpg\"`  \n",
    "**Output:** `Resolution: 1920x1080`\n",
    "\n",
    "### Example 2:\n",
    "**Input:** `\"picture.png\"`  \n",
    "**Output:** `Resolution: 800x600`\n",
    "\n",
    "## 4. User Input\n",
    "- The user provides the **path** of an image file.\n",
    "- The program reads the image to extract its resolution.\n",
    "\n",
    "## 5. Constraints\n",
    "- The image must be a **valid format** (JPEG, PNG, BMP, etc.).\n",
    "- The file path should exist and be accessible.\n",
    "- Requires the **Pillow** library (`pip install pillow`).\n",
    "\n",
    "## 6. Explanation / Theory to Solve the Problem\n",
    "1. **Open the Image:**  \n",
    "   - Use `PIL (Pillow)` to load the image file.\n",
    "   \n",
    "2. **Extract Resolution:**  \n",
    "   - The `size` attribute provides the `(width, height)` of the image.\n",
    "   \n",
    "3. **Return or Display the Resolution:**"
   ]
  },
  {
   "cell_type": "code",
   "execution_count": 1,
   "id": "58304fa6",
   "metadata": {},
   "outputs": [
    {
     "ename": "ModuleNotFoundError",
     "evalue": "No module named 'PIL'",
     "output_type": "error",
     "traceback": [
      "\u001b[31m---------------------------------------------------------------------------\u001b[39m",
      "\u001b[31mModuleNotFoundError\u001b[39m                       Traceback (most recent call last)",
      "\u001b[36mCell\u001b[39m\u001b[36m \u001b[39m\u001b[32mIn[1]\u001b[39m\u001b[32m, line 1\u001b[39m\n\u001b[32m----> \u001b[39m\u001b[32m1\u001b[39m \u001b[38;5;28;01mfrom\u001b[39;00m\u001b[38;5;250m \u001b[39m\u001b[34;01mPIL\u001b[39;00m\u001b[38;5;250m \u001b[39m\u001b[38;5;28;01mimport\u001b[39;00m Image\n\u001b[32m      3\u001b[39m \u001b[38;5;28;01mdef\u001b[39;00m\u001b[38;5;250m \u001b[39m\u001b[34mget_image_size\u001b[39m(image_path):\n\u001b[32m      4\u001b[39m     \u001b[38;5;28;01mwith\u001b[39;00m Image.open(image_path) \u001b[38;5;28;01mas\u001b[39;00m img:\n",
      "\u001b[31mModuleNotFoundError\u001b[39m: No module named 'PIL'"
     ]
    }
   ],
   "source": [
    "from PIL import Image\n",
    "\n",
    "def get_image_size(image_path):\n",
    "    with Image.open(image_path) as img:\n",
    "        width, height = img.size  # Get image dimensions\n",
    "    return width, height\n",
    "\n",
    "# Example Usage\n",
    "image_path = \"example.jpg\"  # Replace with your image file\n",
    "width, height = get_image_size(image_path)\n",
    "print(f\"Resolution: {width}x{height}\")  # Example Output: \"Resolution: 1920x1080\"\n"
   ]
  },
  {
   "cell_type": "code",
   "execution_count": null,
   "id": "f3c78d08",
   "metadata": {},
   "outputs": [],
   "source": []
  }
 ],
 "metadata": {
  "kernelspec": {
   "display_name": "Python 3",
   "language": "python",
   "name": "python3"
  },
  "language_info": {
   "codemirror_mode": {
    "name": "ipython",
    "version": 3
   },
   "file_extension": ".py",
   "mimetype": "text/x-python",
   "name": "python",
   "nbconvert_exporter": "python",
   "pygments_lexer": "ipython3",
   "version": "3.13.3"
  }
 },
 "nbformat": 4,
 "nbformat_minor": 5
}
