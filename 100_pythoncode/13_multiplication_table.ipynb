{
 "cells": [
  {
   "cell_type": "markdown",
   "id": "ea9602c9",
   "metadata": {},
   "source": [
    "# Multiplication Table in Python\n",
    "\n",
    "## Problem Statement\n",
    "Write a Python program to display the **multiplication table** of a given number.\n",
    "\n",
    "## Example\n",
    "\n",
    "### Input:\n",
    "\n",
    "\n",
    "### Output:\n",
    "5 x 1 = 5 5 x 2 = 10 5 x 3 = 15 5 x 4 = 20 5 x 5 = 25 5 x 6 = 30 5 x 7 = 35 5 x 8 = 40 5 x 9 = 45 5 x 10 = 50\n",
    "\n",
    "## Constraint\n",
    "- The input should be a positive integer.\n",
    "- The program should display the table from 1 to 10.\n",
    "\n",
    "\n",
    "## Code:\n",
    "```python\n",
    "# Input from the user\n",
    "num = int(input(\"Enter a number: \"))\n",
    "\n"
   ]
  },
  {
   "cell_type": "code",
   "execution_count": 4,
   "id": "fcaea11f",
   "metadata": {},
   "outputs": [
    {
     "name": "stdout",
     "output_type": "stream",
     "text": [
      "18 * 1 = 18\n",
      "18 * 2 = 36\n",
      "18 * 3 = 54\n",
      "18 * 4 = 72\n",
      "18 * 5 = 90\n",
      "18 * 6 = 108\n",
      "18 * 7 = 126\n",
      "18 * 8 = 144\n",
      "18 * 9 = 162\n",
      "18 * 10 = 180\n"
     ]
    }
   ],
   "source": [
    "def table(m):\n",
    "    for i in range(1,11):\n",
    "        res = i* m\n",
    "        print(f\"{m} * {i} = {res}\")\n",
    "\n",
    "table(18)"
   ]
  },
  {
   "cell_type": "code",
   "execution_count": 5,
   "id": "56cf2baf",
   "metadata": {},
   "outputs": [
    {
     "name": "stdout",
     "output_type": "stream",
     "text": [
      "18 * 1 = 18\n",
      "18 * 2 = 36\n",
      "18 * 3 = 54\n",
      "18 * 4 = 72\n",
      "18 * 5 = 90\n",
      "18 * 6 = 108\n",
      "18 * 7 = 126\n",
      "18 * 8 = 144\n",
      "18 * 9 = 162\n",
      "18 * 10 = 180\n"
     ]
    }
   ],
   "source": [
    "def table_while(m):\n",
    "    i = 1\n",
    "    while i <= 10:\n",
    "        res = i * m\n",
    "        print(f\"{m} * {i} = {res}\")\n",
    "        i += 1\n",
    "        \n",
    "        \n",
    "table_while(18)"
   ]
  }
 ],
 "metadata": {
  "kernelspec": {
   "display_name": "Python 3",
   "language": "python",
   "name": "python3"
  },
  "language_info": {
   "codemirror_mode": {
    "name": "ipython",
    "version": 3
   },
   "file_extension": ".py",
   "mimetype": "text/x-python",
   "name": "python",
   "nbconvert_exporter": "python",
   "pygments_lexer": "ipython3",
   "version": "3.13.3"
  }
 },
 "nbformat": 4,
 "nbformat_minor": 5
}
