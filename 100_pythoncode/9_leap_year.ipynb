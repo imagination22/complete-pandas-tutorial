{
 "cells": [
  {
   "cell_type": "markdown",
   "id": "c6e5532d",
   "metadata": {},
   "source": [
    "# Check If a Year is a Leap Year in Python\n",
    "\n",
    "## Problem Statement\n",
    "Write a Python program to determine whether a given year is a **leap year**.\n",
    "\n",
    "## Example\n",
    "\n",
    "### Input:\n",
    "\n",
    "## Code:\n",
    "```python\n",
    "# Input from the user\n",
    "year = int(input(\"Enter a year: \"))\n",
    "\n",
    "\n"
   ]
  },
  {
   "cell_type": "code",
   "execution_count": 8,
   "id": "d812a593",
   "metadata": {},
   "outputs": [
    {
     "name": "stdout",
     "output_type": "stream",
     "text": [
      "2020 is a leap year\n",
      "2021 is not leap year\n",
      "2000 is a leap year\n",
      "2100 is not leap year\n",
      "0\n",
      "0\n"
     ]
    }
   ],
   "source": [
    "year = 2020\n",
    "year_2= 2021\n",
    "year_3 =2000\n",
    "year_4 =2100\n",
    "\n",
    "def leap_year(year):\n",
    "    if (year%4 == 0 and year%100 !=0) or (year %400  == 0):\n",
    "        print(f\"{year} is a leap year\")\n",
    "    else :\n",
    "        print(f\"{year} is not leap year\")\n",
    "\n",
    "leap_year(year)\n",
    "leap_year(year_2)\n",
    "leap_year(year_3)\n",
    "leap_year(year_4)\n",
    "print(2100%4)\n",
    "print(2100%100)\n"
   ]
  },
  {
   "cell_type": "markdown",
   "id": "3e65d09d",
   "metadata": {},
   "source": [
    "leap year is a year which comes in every 4 year  \n",
    "hence if it is divisible by 4 then it is a leap year\n",
    "2100 when divided by 4 will give 0 , but when divide by 100 will also give 0 , hence not a leap year.\n",
    "2000 when divided by 4 will give 0 , but when divide by 100 will also give 0 , but when ivided by 400 gives 0 . hence leap year.\n"
   ]
  }
 ],
 "metadata": {
  "kernelspec": {
   "display_name": "Python 3",
   "language": "python",
   "name": "python3"
  },
  "language_info": {
   "codemirror_mode": {
    "name": "ipython",
    "version": 3
   },
   "file_extension": ".py",
   "mimetype": "text/x-python",
   "name": "python",
   "nbconvert_exporter": "python",
   "pygments_lexer": "ipython3",
   "version": "3.13.3"
  }
 },
 "nbformat": 4,
 "nbformat_minor": 5
}
