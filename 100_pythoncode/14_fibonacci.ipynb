{
 "cells": [
  {
   "cell_type": "markdown",
   "id": "15245560",
   "metadata": {},
   "source": [
    "\n",
    "# Fibonacci Series in Python\n",
    "\n",
    "## Problem Statement\n",
    "Write a Python program to generate the **Fibonacci series** up to a given number of terms.\n",
    "\n",
    "## Example\n",
    "0, 1, 1, 2, 3, 5, 8, 13, 21, 34, ...\n",
    "### Constraint:\n",
    "- The input should be a positive integer.\n",
    "- The program should generate the correct Fibonacci sequence.\n",
    "\n",
    "## Code:\n",
    "```python\n",
    "# Input from the user\n",
    "num_terms = int(input(\"Enter number of terms: \"))\n",
    "\n",
    "# Display result\n",
    "print(\"Fibonacci series:\", *fibonacci(num_terms))\n"
   ]
  },
  {
   "cell_type": "code",
   "execution_count": 10,
   "id": "f284bed3",
   "metadata": {},
   "outputs": [
    {
     "name": "stdout",
     "output_type": "stream",
     "text": [
      "Fibonacci series: \n",
      "0\n",
      "1\n",
      "1\n",
      "2\n",
      "3\n",
      "5\n",
      "8\n",
      "13\n",
      "21\n",
      "34\n",
      "55\n",
      "89\n",
      "Incorrect input\n"
     ]
    }
   ],
   "source": [
    "def fibo(n):\n",
    "    n = n\n",
    "    a = 0\n",
    "    b = 1\n",
    "    if n < 0:\n",
    "        #print(\"Incorrect input\")\n",
    "        return print(\"Incorrect input\")\n",
    "    print(f\"Fibonacci series: \\n{a}\\n{b}\")\n",
    "    for i in range(1,n+1):\n",
    "        c = a + b\n",
    "        print(c)\n",
    "        a = b\n",
    "        b = c\n",
    "\n",
    "fibo(10)\n",
    "fibo(-1)"
   ]
  },
  {
   "cell_type": "code",
   "execution_count": 17,
   "id": "6358f17a",
   "metadata": {},
   "outputs": [
    {
     "name": "stdout",
     "output_type": "stream",
     "text": [
      "Fibonacci series: 0 1 1 2 3 5 8 13 21 34\n"
     ]
    }
   ],
   "source": [
    "n =10\n",
    "def fibonacci(n):\n",
    "    fib_sequence = [0, 1]\n",
    "    for i in range(2, n):\n",
    "        fib_sequence.append(fib_sequence[-1] + fib_sequence[-2])\n",
    "    return fib_sequence[:n]\n",
    "\n",
    "# Input from the user\n",
    "fibonacci(n)\n",
    "\n",
    "# Display result\n",
    "print(\"Fibonacci series:\", *fibonacci(n))\n"
   ]
  },
  {
   "cell_type": "markdown",
   "id": "55a8e30d",
   "metadata": {},
   "source": [
    "recursion\n"
   ]
  },
  {
   "cell_type": "code",
   "execution_count": 14,
   "id": "2d19d91c",
   "metadata": {},
   "outputs": [
    {
     "name": "stdout",
     "output_type": "stream",
     "text": [
      "Fibonacci series:\n",
      "0 1 1 2 3 5 8 13 21 34 55 "
     ]
    }
   ],
   "source": [
    "n= 10\n",
    "def fibonacci(n):\n",
    "    if n <= 1:\n",
    "        return n\n",
    "    else :\n",
    "        return fibonacci(n-1) + fibonacci(n-2)\n",
    "# Input from the user\n",
    "print(\"Fibonacci series:\")\n",
    "for i in range(n+1):\n",
    "    print(fibonacci(i), end=' ')\n"
   ]
  }
 ],
 "metadata": {
  "kernelspec": {
   "display_name": "Python 3",
   "language": "python",
   "name": "python3"
  },
  "language_info": {
   "codemirror_mode": {
    "name": "ipython",
    "version": 3
   },
   "file_extension": ".py",
   "mimetype": "text/x-python",
   "name": "python",
   "nbconvert_exporter": "python",
   "pygments_lexer": "ipython3",
   "version": "3.13.3"
  }
 },
 "nbformat": 4,
 "nbformat_minor": 5
}
