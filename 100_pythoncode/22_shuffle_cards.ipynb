{
 "cells": [
  {
   "cell_type": "markdown",
   "id": "b0b2881a",
   "metadata": {},
   "source": [
    "random.random(): Returns a random float between 0 and 1.\n",
    "\n",
    "random.randint(a, b): Returns a random integer between a and b (inclusive).\n",
    "\n",
    "random.choice(seq): Selects a random element from a sequence (e.g., a list or a string).\n",
    "\n",
    "random.shuffle(seq): Randomly shuffles elements in a sequence.\n",
    "\n",
    "random.uniform(a, b): Returns a random floating-point number between a and b.\n",
    "\n",
    "random.sample(seq, k): Selects k unique random elements from a sequence.\n",
    "\n",
    "itertools module\n",
    "The itertools module provides efficient iterators for looping and handling iterable data structures like lists, tuples, and dictionaries. Some key functions include:\n",
    "\n",
    "itertools.count(start, step): Infinite counter, starting at start and incrementing by step.\n",
    "\n",
    "itertools.cycle(iterable): Loops indefinitely over an iterable.\n",
    "\n",
    "itertools.repeat(value, times): Repeats a value for times iterations.\n",
    "\n",
    "itertools.combinations(iterable, r): Generates unique combinations of r elements from an iterable.\n",
    "\n",
    "itertools.permutations(iterable, r): Generates all possible orderings (permutations) of r elements.\n",
    "\n",
    "itertools.product(iter1, iter2, ...): Returns the Cartesian product of input iterables.\n",
    "\n",
    "itertools.chain(iter1, iter2, ...): Combines multiple iterables into a single iterable.\n",
    "\n",
    "itertools.groupby(iterable, key): Groups elements based on a key function."
   ]
  },
  {
   "cell_type": "code",
   "execution_count": 2,
   "id": "341a6202",
   "metadata": {},
   "outputs": [
    {
     "name": "stdout",
     "output_type": "stream",
     "text": [
      "Deck of cards before shuffling:\n",
      "[(1, 'Hearts'), (1, 'Diamonds'), (1, 'Clubs'), (1, 'Spades'), (2, 'Hearts'), (2, 'Diamonds'), (2, 'Clubs'), (2, 'Spades'), (3, 'Hearts'), (3, 'Diamonds'), (3, 'Clubs'), (3, 'Spades'), (4, 'Hearts'), (4, 'Diamonds'), (4, 'Clubs'), (4, 'Spades'), (5, 'Hearts'), (5, 'Diamonds'), (5, 'Clubs'), (5, 'Spades'), (6, 'Hearts'), (6, 'Diamonds'), (6, 'Clubs'), (6, 'Spades'), (7, 'Hearts'), (7, 'Diamonds'), (7, 'Clubs'), (7, 'Spades'), (8, 'Hearts'), (8, 'Diamonds'), (8, 'Clubs'), (8, 'Spades'), (9, 'Hearts'), (9, 'Diamonds'), (9, 'Clubs'), (9, 'Spades'), (10, 'Hearts'), (10, 'Diamonds'), (10, 'Clubs'), (10, 'Spades'), (11, 'Hearts'), (11, 'Diamonds'), (11, 'Clubs'), (11, 'Spades'), (12, 'Hearts'), (12, 'Diamonds'), (12, 'Clubs'), (12, 'Spades'), (13, 'Hearts'), (13, 'Diamonds'), (13, 'Clubs'), (13, 'Spades')]\n",
      "Deck of cards after shuffling:\n",
      "[(6, 'Hearts'), (2, 'Diamonds'), (1, 'Hearts'), (12, 'Clubs'), (9, 'Spades'), (13, 'Clubs'), (1, 'Clubs'), (6, 'Spades'), (8, 'Spades'), (1, 'Spades'), (7, 'Clubs'), (6, 'Clubs'), (12, 'Diamonds'), (10, 'Diamonds'), (4, 'Clubs'), (3, 'Spades'), (10, 'Hearts'), (4, 'Hearts'), (5, 'Clubs'), (13, 'Spades'), (4, 'Spades'), (11, 'Hearts'), (3, 'Hearts'), (3, 'Clubs'), (7, 'Diamonds'), (2, 'Spades'), (11, 'Spades'), (12, 'Spades'), (6, 'Diamonds'), (9, 'Diamonds'), (11, 'Diamonds'), (12, 'Hearts'), (4, 'Diamonds'), (8, 'Hearts'), (5, 'Spades'), (10, 'Spades'), (10, 'Clubs'), (1, 'Diamonds'), (13, 'Hearts'), (8, 'Clubs'), (7, 'Hearts'), (2, 'Clubs'), (9, 'Clubs'), (5, 'Diamonds'), (5, 'Hearts'), (3, 'Diamonds'), (9, 'Hearts'), (8, 'Diamonds'), (2, 'Hearts'), (13, 'Diamonds'), (11, 'Clubs'), (7, 'Spades')]\n",
      "The first five cards drawn from the shuffled deck:\n",
      "6 of Hearts\n",
      "1 of Hearts\n",
      "9 of Spades\n",
      "1 of Clubs\n",
      "8 of Spades\n",
      "Deck after drawing the first five cards:\n",
      "[(2, 'Diamonds'), (12, 'Clubs'), (13, 'Clubs'), (6, 'Spades'), (1, 'Spades'), (7, 'Clubs'), (6, 'Clubs'), (12, 'Diamonds'), (10, 'Diamonds'), (4, 'Clubs'), (3, 'Spades'), (10, 'Hearts'), (4, 'Hearts'), (5, 'Clubs'), (13, 'Spades'), (4, 'Spades'), (11, 'Hearts'), (3, 'Hearts'), (3, 'Clubs'), (7, 'Diamonds'), (2, 'Spades'), (11, 'Spades'), (12, 'Spades'), (6, 'Diamonds'), (9, 'Diamonds'), (11, 'Diamonds'), (12, 'Hearts'), (4, 'Diamonds'), (8, 'Hearts'), (5, 'Spades'), (10, 'Spades'), (10, 'Clubs'), (1, 'Diamonds'), (13, 'Hearts'), (8, 'Clubs'), (7, 'Hearts'), (2, 'Clubs'), (9, 'Clubs'), (5, 'Diamonds'), (5, 'Hearts'), (3, 'Diamonds'), (9, 'Hearts'), (8, 'Diamonds'), (2, 'Hearts'), (13, 'Diamonds'), (11, 'Clubs'), (7, 'Spades')]\n"
     ]
    }
   ],
   "source": [
    "import random , itertools\n",
    "\n",
    "deck = list(itertools.product(range(1, 14), ['Hearts', 'Diamonds', 'Clubs', 'Spades']))\n",
    "print(\"Deck of cards before shuffling:\")\n",
    "print(deck)\n",
    "random.shuffle(deck)\n",
    "print(\"Deck of cards after shuffling:\")\n",
    "print(deck)\n",
    "print(\"The first five cards drawn from the shuffled deck:\") \n",
    "for i in range(5): \n",
    "    print(deck[i][0], \"of\", deck[i][1])  # 1st tupe , 1st element in number which is index 0 , and 1st element in suit which is index 1\n",
    "    popped_card = deck.pop(i)\n",
    "print(\"Deck after drawing the first five cards:\")   \n",
    "print(deck)\n",
    "     "
   ]
  }
 ],
 "metadata": {
  "kernelspec": {
   "display_name": "Python 3",
   "language": "python",
   "name": "python3"
  },
  "language_info": {
   "codemirror_mode": {
    "name": "ipython",
    "version": 3
   },
   "file_extension": ".py",
   "mimetype": "text/x-python",
   "name": "python",
   "nbconvert_exporter": "python",
   "pygments_lexer": "ipython3",
   "version": "3.13.3"
  }
 },
 "nbformat": 4,
 "nbformat_minor": 5
}
