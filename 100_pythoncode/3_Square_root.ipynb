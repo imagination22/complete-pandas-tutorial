{
 "cells": [
  {
   "cell_type": "markdown",
   "id": "e6ccef92",
   "metadata": {},
   "source": [
    "# Square Root Calculator in Python\n",
    "\n",
    "## Problem Statement\n",
    "Write a Python program to calculate the **square root** of a given number.\n",
    "\n",
    "## Example\n",
    "\n",
    "### Input:\n"
   ]
  },
  {
   "cell_type": "code",
   "execution_count": 5,
   "id": "275083c0",
   "metadata": {},
   "outputs": [
    {
     "name": "stdout",
     "output_type": "stream",
     "text": [
      "the Squareroot of number : 65 is 8\n"
     ]
    }
   ],
   "source": [
    "num=65\n",
    "sr = num**0.5\n",
    "sr = int(sr)\n",
    "print(f\"the Squareroot of number : {num} is {sr}\")"
   ]
  },
  {
   "cell_type": "code",
   "execution_count": 6,
   "id": "cdb7dfde",
   "metadata": {},
   "outputs": [
    {
     "name": "stdout",
     "output_type": "stream",
     "text": [
      "the Squareroot of number : 65 is 8.06225774829855\n"
     ]
    }
   ],
   "source": [
    "num_2=65\n",
    "sr_1 = num_2**(1 / 2)\n",
    "print(f\"the Squareroot of number : {num_2} is {sr_1}\")\n"
   ]
  },
  {
   "cell_type": "markdown",
   "id": "dcc9ecc8",
   "metadata": {},
   "source": [
    "Method 2 , use math module"
   ]
  },
  {
   "cell_type": "code",
   "execution_count": 7,
   "id": "e2b23fd5",
   "metadata": {},
   "outputs": [
    {
     "name": "stdout",
     "output_type": "stream",
     "text": [
      "the Squareroot of number : 65 is 8.06225774829855\n"
     ]
    }
   ],
   "source": [
    "import math\n",
    "num_3 = 65\n",
    "sr_3 = math.sqrt(num_3)\n",
    "print(f\"the Squareroot of number : {num_3} is {sr_3}\")"
   ]
  }
 ],
 "metadata": {
  "kernelspec": {
   "display_name": "Python 3",
   "language": "python",
   "name": "python3"
  },
  "language_info": {
   "codemirror_mode": {
    "name": "ipython",
    "version": 3
   },
   "file_extension": ".py",
   "mimetype": "text/x-python",
   "name": "python",
   "nbconvert_exporter": "python",
   "pygments_lexer": "ipython3",
   "version": "3.13.3"
  }
 },
 "nbformat": 4,
 "nbformat_minor": 5
}
