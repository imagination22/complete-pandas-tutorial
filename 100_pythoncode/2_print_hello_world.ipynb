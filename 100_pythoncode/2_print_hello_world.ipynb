{
 "cells": [
  {
   "cell_type": "markdown",
   "id": "9fa42dc6",
   "metadata": {},
   "source": [
    "# Hello, World! in Python\n",
    "\n",
    "## Introduction\n",
    "This is the most basic program in Python, used to display the message **\"Hello, World!\"**.\n",
    "\n",
    "## Code:\n",
    "```python\n",
    "print(\"Hello, World!\")"
   ]
  },
  {
   "cell_type": "code",
   "execution_count": 3,
   "id": "d31f5cba",
   "metadata": {},
   "outputs": [
    {
     "name": "stdout",
     "output_type": "stream",
     "text": [
      "Hello, World!\n"
     ]
    }
   ],
   "source": [
    "print(\"Hello, World!\")"
   ]
  }
 ],
 "metadata": {
  "kernelspec": {
   "display_name": "Python 3",
   "language": "python",
   "name": "python3"
  },
  "language_info": {
   "codemirror_mode": {
    "name": "ipython",
    "version": 3
   },
   "file_extension": ".py",
   "mimetype": "text/x-python",
   "name": "python",
   "nbconvert_exporter": "python",
   "pygments_lexer": "ipython3",
   "version": "3.13.3"
  }
 },
 "nbformat": 4,
 "nbformat_minor": 5
}
