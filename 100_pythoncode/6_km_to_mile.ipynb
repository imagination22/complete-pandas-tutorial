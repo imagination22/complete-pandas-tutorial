{
 "cells": [
  {
   "cell_type": "markdown",
   "id": "fc746ed2",
   "metadata": {},
   "source": [
    "# Kilometer to Mile Conversion in Python\n",
    "\n",
    "## Problem Statement\n",
    "Write a Python program to convert **kilometers** to **miles**.\n",
    "\n",
    "## Example\n",
    "\n",
    "### Input:\n"
   ]
  },
  {
   "cell_type": "markdown",
   "id": "0f812e88",
   "metadata": {},
   "source": [
    "\n",
    "## Code:\n",
    "```python\n",
    "# Conversion factor\n",
    "KM_TO_MILE = 0.621371\n",
    "\n",
    "# Input from the user\n",
    "km = float(input(\"Enter distance in kilometers: \"))\n",
    "\n",
    "# Convert to miles\n",
    "miles = km * KM_TO_MILE\n",
    "\n",
    "# Display result\n",
    "print(\"Distance in miles:\", miles)\n"
   ]
  },
  {
   "cell_type": "code",
   "execution_count": 3,
   "id": "aa87c18e",
   "metadata": {},
   "outputs": [
    {
     "name": "stdout",
     "output_type": "stream",
     "text": [
      "5 km to mile is 3.106855mile\n"
     ]
    }
   ],
   "source": [
    "km = 5\n",
    "km_to_mile = 0.621371\n",
    "mile = km * km_to_mile\n",
    "print(f\"{km} km to mile is {mile}mile\")\n"
   ]
  },
  {
   "cell_type": "markdown",
   "id": "4ab01593",
   "metadata": {},
   "source": [
    "\n",
    "## Code:\n",
    "```python\n",
    "# Conversion factor\n",
    "MILE_TO_KM = 1.60934\n",
    "\n",
    "# Input from the user\n",
    "miles = float(input(\"Enter distance in miles: \"))\n",
    "\n",
    "# Convert to kilometers\n",
    "km = miles * MILE_TO_KM\n",
    "\n",
    "# Display result\n",
    "print(\"Distance in kilometers:\", km)\n"
   ]
  },
  {
   "cell_type": "code",
   "execution_count": 4,
   "id": "dee69f73",
   "metadata": {},
   "outputs": [
    {
     "name": "stdout",
     "output_type": "stream",
     "text": [
      "100 miles to km is 160.934 kms\n"
     ]
    }
   ],
   "source": [
    "mile = 100\n",
    "mile_to_km = 1.60934\n",
    "km = mile * mile_to_km\n",
    "print(f\"{mile} miles to km is {km} kms\")"
   ]
  }
 ],
 "metadata": {
  "kernelspec": {
   "display_name": "Python 3",
   "language": "python",
   "name": "python3"
  },
  "language_info": {
   "codemirror_mode": {
    "name": "ipython",
    "version": 3
   },
   "file_extension": ".py",
   "mimetype": "text/x-python",
   "name": "python",
   "nbconvert_exporter": "python",
   "pygments_lexer": "ipython3",
   "version": "3.13.3"
  }
 },
 "nbformat": 4,
 "nbformat_minor": 5
}
