{
 "cells": [
  {
   "cell_type": "markdown",
   "id": "43aff8a3",
   "metadata": {},
   "source": [
    "# Find the Largest Among Three Numbers in Python\n",
    "\n",
    "## Problem Statement\n",
    "Write a Python program to determine the **largest** among three given numbers.\n",
    "\n",
    "## Example\n",
    "\n",
    "### Input:\n",
    "\n",
    "## Code:\n",
    "\n",
    "\n",
    "## constaint : \n",
    "- Inputs must be numbers (integers or floats).\n",
    "- The program should correctly identify the largest number.\n",
    "\n",
    "```python\n",
    "# Input from the user\n",
    "num1 = float(input(\"Enter first number: \"))\n",
    "num2 = float(input(\"Enter second number: \"))\n",
    "num3 = float(input(\"Enter third number: \"))"
   ]
  },
  {
   "cell_type": "code",
   "execution_count": 4,
   "id": "33ad5241",
   "metadata": {},
   "outputs": [
    {
     "name": "stdout",
     "output_type": "stream",
     "text": [
      "largest number is 40 \n"
     ]
    }
   ],
   "source": [
    "num_1 = 20\n",
    "num_2 = 30\n",
    "num_3 = 40\n",
    "\n",
    "def max(a,b,c):\n",
    "    max = a\n",
    "    if b > max:\n",
    "        max = b\n",
    "    if c > max:\n",
    "        max = c\n",
    "    return max\n",
    "maximum = max(num_1,num_2,num_3)\n",
    "print(f\"largest number is {maximum} \")"
   ]
  },
  {
   "cell_type": "code",
   "execution_count": 5,
   "id": "099e1a42",
   "metadata": {},
   "outputs": [
    {
     "name": "stdout",
     "output_type": "stream",
     "text": [
      "smallest number is 20 \n"
     ]
    }
   ],
   "source": [
    "def min(a,b,c):\n",
    "    if a < b and a < c:\n",
    "        min = a\n",
    "    elif b < a and b < c:\n",
    "        min = b \n",
    "    else:\n",
    "        min = c\n",
    "    return min\n",
    "minimum = min(num_1,num_2,num_3)\n",
    "print(f\"smallest number is {minimum} \")"
   ]
  }
 ],
 "metadata": {
  "kernelspec": {
   "display_name": "Python 3",
   "language": "python",
   "name": "python3"
  },
  "language_info": {
   "codemirror_mode": {
    "name": "ipython",
    "version": 3
   },
   "file_extension": ".py",
   "mimetype": "text/x-python",
   "name": "python",
   "nbconvert_exporter": "python",
   "pygments_lexer": "ipython3",
   "version": "3.13.3"
  }
 },
 "nbformat": 4,
 "nbformat_minor": 5
}
