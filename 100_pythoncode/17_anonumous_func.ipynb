{
 "cells": [
  {
   "cell_type": "markdown",
   "id": "1b8bab04",
   "metadata": {},
   "source": [
    "## Anonymous function / Lamda function "
   ]
  },
  {
   "cell_type": "code",
   "execution_count": 1,
   "id": "175ae1fb",
   "metadata": {},
   "outputs": [
    {
     "name": "stdout",
     "output_type": "stream",
     "text": [
      "[1, 2, 4, 8, 16, 32, 64, 128, 256, 512, 1024]\n"
     ]
    }
   ],
   "source": [
    "nterms = 10\n",
    "result = list(map(lambda x: 2**x, range(nterms+1)))\n",
    "print(result)"
   ]
  },
  {
   "cell_type": "markdown",
   "id": "08e35ffe",
   "metadata": {},
   "source": [
    "## find number divisible by other number "
   ]
  },
  {
   "cell_type": "code",
   "execution_count": 3,
   "id": "d9a23036",
   "metadata": {},
   "outputs": [
    {
     "name": "stdout",
     "output_type": "stream",
     "text": [
      "100 is not divisible by 13.\n"
     ]
    }
   ],
   "source": [
    "input_number = 100\n",
    "divisor = 13\n",
    "\n",
    "if input_number % divisor == 0:\n",
    "    print(f\"{input_number} is divisible by {divisor}.\")\n",
    "else:  \n",
    "    print(f\"{input_number} is not divisible by {divisor}.\")"
   ]
  },
  {
   "cell_type": "code",
   "execution_count": 7,
   "id": "306ef3dd",
   "metadata": {},
   "outputs": [
    {
     "name": "stdout",
     "output_type": "stream",
     "text": [
      "13 is divisible by 13.\n",
      "26 is divisible by 13.\n",
      "39 is divisible by 13.\n",
      "52 is divisible by 13.\n",
      "65 is divisible by 13.\n",
      "78 is divisible by 13.\n",
      "91 is divisible by 13.\n"
     ]
    }
   ],
   "source": [
    "divisor = 13\n",
    "def is_divisible_by(number, divisor):\n",
    "    for i in range(1, number + 1):\n",
    "        if i % divisor == 0:\n",
    "            print(f\"{i} is divisible by {divisor}.\")\n",
    "        else:\n",
    "            pass\n",
    "            #print(f\"{i} is not divisible by {divisor}.\")\n",
    "is_divisible_by(100, 13)"
   ]
  },
  {
   "cell_type": "code",
   "execution_count": 8,
   "id": "339c22c6",
   "metadata": {},
   "outputs": [
    {
     "name": "stdout",
     "output_type": "stream",
     "text": [
      "[39, 65]\n"
     ]
    }
   ],
   "source": [
    "list_a = [39,48,59,60,61,62,63,64,65,66,67,68,69]\n",
    "result = list(filter(lambda x: x % 13 == 0, list_a))\n",
    "print(result)"
   ]
  },
  {
   "cell_type": "code",
   "execution_count": 9,
   "id": "ea8abe1a",
   "metadata": {},
   "outputs": [
    {
     "name": "stdout",
     "output_type": "stream",
     "text": [
      "[('Alice', 90), ('Charlie', 90), ('Bob', 85), ('David', 80)]\n"
     ]
    }
   ],
   "source": [
    "students = [\n",
    "    (\"Alice\", 90),\n",
    "    (\"Bob\", 85),\n",
    "    (\"Charlie\", 90),\n",
    "    (\"David\", 80)\n",
    "]\n",
    "\n",
    "# Sorting by score (descending) and name (ascending)\n",
    "sorted_students = sorted(students, key=lambda x: (-x[1], x[0]))\n",
    "\n",
    "print(sorted_students)\n"
   ]
  },
  {
   "cell_type": "code",
   "execution_count": 10,
   "id": "d1f83a30",
   "metadata": {},
   "outputs": [
    {
     "name": "stdout",
     "output_type": "stream",
     "text": [
      "10\n",
      "15\n"
     ]
    }
   ],
   "source": [
    "def multiplier(n):\n",
    "    return lambda x: x * n\n",
    "\n",
    "double = multiplier(2)  # Creates a function that multiplies by 2\n",
    "triple = multiplier(3)  # Creates a function that multiplies by 3\n",
    "\n",
    "print(double(5))  # Output: 10\n",
    "print(triple(5))  # Output: 15\n"
   ]
  }
 ],
 "metadata": {
  "kernelspec": {
   "display_name": "Python 3",
   "language": "python",
   "name": "python3"
  },
  "language_info": {
   "codemirror_mode": {
    "name": "ipython",
    "version": 3
   },
   "file_extension": ".py",
   "mimetype": "text/x-python",
   "name": "python",
   "nbconvert_exporter": "python",
   "pygments_lexer": "ipython3",
   "version": "3.13.3"
  }
 },
 "nbformat": 4,
 "nbformat_minor": 5
}
