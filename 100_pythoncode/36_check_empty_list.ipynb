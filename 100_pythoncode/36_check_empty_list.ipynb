{
 "cells": [
  {
   "cell_type": "markdown",
   "id": "e54cf0ef",
   "metadata": {},
   "source": [
    "# len , boolean , empty[]"
   ]
  },
  {
   "cell_type": "code",
   "execution_count": 2,
   "id": "46787955",
   "metadata": {},
   "outputs": [
    {
     "name": "stdout",
     "output_type": "stream",
     "text": [
      "True\n",
      "False\n"
     ]
    }
   ],
   "source": [
    "list_a =['a', 'b', 'c', 'd']\n",
    "list_b=[]\n",
    "\n",
    "print(bool(list_a))  # True if list_a is not empty\n",
    "print(bool(list_b))  # False if list_b is empty\n"
   ]
  },
  {
   "cell_type": "code",
   "execution_count": 4,
   "id": "237f5a8d",
   "metadata": {},
   "outputs": [
    {
     "name": "stdout",
     "output_type": "stream",
     "text": [
      "list_a is not empty\n",
      "list_b is empty\n"
     ]
    }
   ],
   "source": [
    "if len(list_a) > 0:\n",
    "    print(\"list_a is not empty\")\n",
    "if len(list_b) > 0:\n",
    "    print(\"list_b is not empty\")\n",
    "else:\n",
    "    print(\"list_b is empty\")"
   ]
  },
  {
   "cell_type": "code",
   "execution_count": 5,
   "id": "f6ac7af6",
   "metadata": {},
   "outputs": [
    {
     "name": "stdout",
     "output_type": "stream",
     "text": [
      "list_b is empty\n"
     ]
    }
   ],
   "source": [
    "if list_b == []:\n",
    "    print(\"list_b is empty\")"
   ]
  }
 ],
 "metadata": {
  "kernelspec": {
   "display_name": "Python 3",
   "language": "python",
   "name": "python3"
  },
  "language_info": {
   "codemirror_mode": {
    "name": "ipython",
    "version": 3
   },
   "file_extension": ".py",
   "mimetype": "text/x-python",
   "name": "python",
   "nbconvert_exporter": "python",
   "pygments_lexer": "ipython3",
   "version": "3.13.3"
  }
 },
 "nbformat": 4,
 "nbformat_minor": 5
}
