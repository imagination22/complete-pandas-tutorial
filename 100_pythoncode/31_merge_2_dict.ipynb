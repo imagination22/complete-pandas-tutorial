{
 "cells": [
  {
   "cell_type": "markdown",
   "id": "f242fed2",
   "metadata": {},
   "source": [
    "# Merge Two Dictionaries in Python\n",
    "\n",
    "## 1. Question\n",
    "How can we efficiently merge two dictionaries in Python?\n",
    "\n",
    "## 2. Case\n",
    "- **Input:** Two dictionaries containing key-value pairs.\n",
    "- **Output:** A single merged dictionary with combined key-value pairs.\n",
    "\n",
    "## 3. Example\n",
    "### Example 1:\n",
    "**Input:**  \n",
    "```python\n",
    "dict1 = {\"a\": 1, \"b\": 2}\n",
    "dict2 = {\"b\": 3, \"c\": 4}\n"
   ]
  },
  {
   "cell_type": "code",
   "execution_count": 21,
   "id": "4f3b04a2",
   "metadata": {},
   "outputs": [
    {
     "name": "stdout",
     "output_type": "stream",
     "text": [
      "{'a': 1, 'b': 3, 'c': 4}\n"
     ]
    }
   ],
   "source": [
    "dict1 = {\"a\": 1, \"b\": 2}\n",
    "dict2 = {\"b\": 3, \"c\": 4}\n",
    "\n",
    "dict3 = dict1 | dict2\n",
    "print(dict3)"
   ]
  },
  {
   "cell_type": "markdown",
   "id": "c585f8ae",
   "metadata": {},
   "source": [
    "b is overlaped by 2nd dict"
   ]
  },
  {
   "cell_type": "markdown",
   "id": "a45dadf4",
   "metadata": {},
   "source": [
    "kwags"
   ]
  },
  {
   "cell_type": "code",
   "execution_count": 22,
   "id": "98f04879",
   "metadata": {},
   "outputs": [
    {
     "name": "stdout",
     "output_type": "stream",
     "text": [
      "{'a': 1, 'b': 3, 'c': 4}\n"
     ]
    }
   ],
   "source": [
    "dict1 = {\"a\": 1, \"b\": 2}\n",
    "dict2 = {\"b\": 3, \"c\": 4}\n",
    "print({**dict1, **dict2})"
   ]
  },
  {
   "cell_type": "markdown",
   "id": "c5f5455f",
   "metadata": {},
   "source": [
    "Why Both Outputs Are None:\n",
    "First print statement (print(dict3.update(dict1)))\n",
    "\n",
    ".update(dict1) updates dict3, but since .update() returns None, the print statement outputs None.\n",
    "\n",
    "Second assignment (dict3 = dict3.update(dict1))\n",
    "\n",
    "dict3.update(dict1) runs again, modifies dict3, but does not return the dictionary.\n",
    "\n",
    "dict3 now holds None, overwriting the dictionary reference."
   ]
  },
  {
   "cell_type": "code",
   "execution_count": 23,
   "id": "2ae94086",
   "metadata": {},
   "outputs": [
    {
     "name": "stdout",
     "output_type": "stream",
     "text": [
      "None\n",
      "{'b': 2, 'c': 4, 'a': 1}\n",
      "None\n"
     ]
    }
   ],
   "source": [
    "dict1 = {\"a\": 1, \"b\": 2}\n",
    "dict2 = {\"b\": 3, \"c\": 4}\n",
    "dict3 = dict2.copy()\n",
    "print(dict3.update(dict1))\n",
    "dict3.update(dict1)\n",
    "print(dict3)\n",
    "dict3 = dict3.update(dict1)\n",
    "\n",
    "print(dict3)\n",
    "#print(dict3.update(dict1))  -- here we get error"
   ]
  },
  {
   "cell_type": "code",
   "execution_count": 24,
   "id": "0ab7d27e",
   "metadata": {},
   "outputs": [
    {
     "name": "stdout",
     "output_type": "stream",
     "text": [
      "{'b': 2, 'c': 4, 'a': 1}\n"
     ]
    }
   ],
   "source": [
    "dict1 = {\"a\": 1, \"b\": 2}\n",
    "dict2 = {\"b\": 3, \"c\": 4}\n",
    "\n",
    "dict3 = dict2.copy()\n",
    "dict3.update(dict1)  # Updates dict3 correctly\n",
    "\n",
    "print(dict3)  # Output: {'a': 1, 'b': 2, 'c': 4}\n"
   ]
  }
 ],
 "metadata": {
  "kernelspec": {
   "display_name": "Python 3",
   "language": "python",
   "name": "python3"
  },
  "language_info": {
   "codemirror_mode": {
    "name": "ipython",
    "version": 3
   },
   "file_extension": ".py",
   "mimetype": "text/x-python",
   "name": "python",
   "nbconvert_exporter": "python",
   "pygments_lexer": "ipython3",
   "version": "3.13.3"
  }
 },
 "nbformat": 4,
 "nbformat_minor": 5
}
