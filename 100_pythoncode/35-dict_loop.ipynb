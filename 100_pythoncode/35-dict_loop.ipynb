{
 "cells": [
  {
   "cell_type": "code",
   "execution_count": 2,
   "id": "99898c61",
   "metadata": {},
   "outputs": [
    {
     "name": "stdout",
     "output_type": "stream",
     "text": [
      "rachel is friends with ross\n",
      "ross is friends with rachel\n",
      "monica is friends with chandler\n",
      "chandler is friends with monica\n",
      "joey is friends with phoebe\n",
      "phoebe is friends with joey\n"
     ]
    }
   ],
   "source": [
    "friends = {\"rachel\":\"ross\", \"ross\":\"rachel\", \"monica\":\"chandler\", \"chandler\":\"monica\", \"joey\":\"phoebe\", \"phoebe\":\"joey\"}\n",
    "def get_friend(name):\n",
    "    for key,value in friends.items():\n",
    "        print(f\"{key} is friends with {value}\")\n",
    "get_friend(friends)"
   ]
  },
  {
   "cell_type": "code",
   "execution_count": 3,
   "id": "46947310",
   "metadata": {},
   "outputs": [
    {
     "name": "stdout",
     "output_type": "stream",
     "text": [
      "rachel is friends with ross\n",
      "ross is friends with rachel\n",
      "monica is friends with chandler\n",
      "chandler is friends with monica\n",
      "joey is friends with phoebe\n",
      "phoebe is friends with joey\n"
     ]
    }
   ],
   "source": [
    "for key in friends:\n",
    "    print(f\"{key} is friends with {friends[key]}\")"
   ]
  },
  {
   "cell_type": "code",
   "execution_count": 4,
   "id": "e5b290fb",
   "metadata": {},
   "outputs": [
    {
     "name": "stdout",
     "output_type": "stream",
     "text": [
      "ross is friends with rachel\n",
      "rachel is friends with ross\n",
      "chandler is friends with monica\n",
      "monica is friends with chandler\n",
      "phoebe is friends with joey\n",
      "joey is friends with phoebe\n"
     ]
    }
   ],
   "source": [
    "for key in friends.values():\n",
    "    print(f\"{key} is friends with {friends[key]}\")"
   ]
  },
  {
   "cell_type": "markdown",
   "id": "9350667f",
   "metadata": {},
   "source": [
    "# Sort"
   ]
  },
  {
   "cell_type": "code",
   "execution_count": 5,
   "id": "54a1b577",
   "metadata": {},
   "outputs": [
    {
     "name": "stdout",
     "output_type": "stream",
     "text": [
      "chandler is friends with monica\n",
      "joey is friends with phoebe\n",
      "monica is friends with chandler\n",
      "phoebe is friends with joey\n",
      "rachel is friends with ross\n",
      "ross is friends with rachel\n"
     ]
    }
   ],
   "source": [
    "sorted_friends = sorted(friends.items())\n",
    "for key, value in sorted_friends:\n",
    "    print(f\"{key} is friends with {value}\")"
   ]
  },
  {
   "cell_type": "code",
   "execution_count": 6,
   "id": "b369b4e2",
   "metadata": {},
   "outputs": [
    {
     "name": "stdout",
     "output_type": "stream",
     "text": [
      "ross is friends with rachel\n",
      "joey is friends with phoebe\n",
      "rachel is friends with ross\n",
      "monica is friends with chandler\n",
      "phoebe is friends with joey\n",
      "chandler is friends with monica\n"
     ]
    }
   ],
   "source": [
    "sorted_friends = sorted(friends.items(), key = lambda item: len(item[0]))\n",
    "for key, value in sorted_friends:\n",
    "    print(f\"{key} is friends with {value}\")"
   ]
  },
  {
   "cell_type": "code",
   "execution_count": 10,
   "id": "841a9528",
   "metadata": {},
   "outputs": [
    {
     "name": "stdout",
     "output_type": "stream",
     "text": [
      "['ross', 'joey', 'rachel', 'monica', 'phoebe', 'chandler']\n",
      "ross\n",
      "joey\n",
      "rachel\n",
      "monica\n",
      "phoebe\n",
      "chandler\n"
     ]
    }
   ],
   "source": [
    "sorted_friends = sorted(friends.values(), key = lambda values: len(values))\n",
    "print(sorted_friends)\n",
    "for  value in sorted_friends:\n",
    "    print(value)"
   ]
  }
 ],
 "metadata": {
  "kernelspec": {
   "display_name": "Python 3",
   "language": "python",
   "name": "python3"
  },
  "language_info": {
   "codemirror_mode": {
    "name": "ipython",
    "version": 3
   },
   "file_extension": ".py",
   "mimetype": "text/x-python",
   "name": "python",
   "nbconvert_exporter": "python",
   "pygments_lexer": "ipython3",
   "version": "3.13.3"
  }
 },
 "nbformat": 4,
 "nbformat_minor": 5
}
