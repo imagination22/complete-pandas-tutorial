{
 "cells": [
  {
   "cell_type": "markdown",
   "id": "e4941ae5",
   "metadata": {},
   "source": [
    "# Check if a Number is Positive, Negative, or Zero in Python\n",
    "\n",
    "## Problem Statement\n",
    "Write a Python program to determine whether a given number is **positive**, **negative**, or **zero**.\n",
    "\n",
    "## Example\n",
    "## Code:\n",
    "\n",
    "### Input:\n",
    "\n",
    "- The input should be a numerical value (integer or float).\n",
    "- The program should correctly classify the number.\n",
    "```python\n",
    "# Input from the user\n",
    "num = float(input(\"Enter a number: \")) "
   ]
  },
  {
   "cell_type": "code",
   "execution_count": 1,
   "id": "ca240e4e",
   "metadata": {},
   "outputs": [
    {
     "name": "stdout",
     "output_type": "stream",
     "text": [
      "a is positive\n",
      "b is positive\n",
      "c is negative\n",
      "d is zero\n"
     ]
    }
   ],
   "source": [
    "a = 10\n",
    "b = 9.0\n",
    "c = -9.9\n",
    "d = 0\n",
    "\n",
    "if  a > 0 :\n",
    "    print(\"a is positive\")\n",
    "elif a < 0 :\n",
    "    print(\"a is negative\")\n",
    "else :\n",
    "    print(\"a is zero\")\n",
    "\n",
    "if b > 0 :\n",
    "    print(\"b is positive\")\n",
    "elif b < 0 :\n",
    "    print(\"b is negative\")\n",
    "else :\n",
    "    print(\"b is zero\")\n",
    "\n",
    "if c > 0 :\n",
    "    print(\"c is positive\")\n",
    "elif c < 0 :\n",
    "    print(\"c is negative\")\n",
    "else :\n",
    "    print(\"c is zero\")\n",
    "\n",
    "if d > 0 :\n",
    "    print(\"d is positive\")\n",
    "elif d < 0 :\n",
    "    print(\"d is negative\")\n",
    "else :\n",
    "    print(\"d is zero\")\n"
   ]
  }
 ],
 "metadata": {
  "kernelspec": {
   "display_name": "Python 3",
   "language": "python",
   "name": "python3"
  },
  "language_info": {
   "codemirror_mode": {
    "name": "ipython",
    "version": 3
   },
   "file_extension": ".py",
   "mimetype": "text/x-python",
   "name": "python",
   "nbconvert_exporter": "python",
   "pygments_lexer": "ipython3",
   "version": "3.13.3"
  }
 },
 "nbformat": 4,
 "nbformat_minor": 5
}
