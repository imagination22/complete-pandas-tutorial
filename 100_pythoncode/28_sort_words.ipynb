{
 "cells": [
  {
   "cell_type": "markdown",
   "id": "1b9dc3b9",
   "metadata": {},
   "source": [
    "# Sort Words in Alphabetical Order\n",
    "\n",
    "## 1. Question\n",
    "Given a sentence containing multiple words, sort them in alphabetical order.\n",
    "\n",
    "## 2. Case\n",
    "- **Input:** A string containing multiple words separated by spaces.\n",
    "- **Output:** A string where words are sorted alphabetically.\n",
    "\n",
    "## 3. Example\n",
    "### Example 1:\n",
    "**Input:** `\"banana apple cherry date\"`  \n",
    "**Output:** `\"apple banana cherry date\"`\n",
    "\n",
    "### Example 2:\n",
    "**Input:** `\"zebra lion tiger elephant\"`  \n",
    "**Output:** `\"elephant lion tiger zebra\"`\n",
    "\n",
    "## 4. User Input\n",
    "- The user enters a sentence as a string.\n",
    "- The program extracts individual words and arranges them alphabetically.\n",
    "\n",
    "## 5. Constraints\n",
    "- The input contains only **alphabetic characters** and spaces (no punctuation).\n",
    "- Words are case-sensitive unless modified.\n",
    "- The sentence is **non-empty**.\n",
    "\n",
    "## 6. Explanation / Theory to Solve the Problem\n",
    "1. **Splitting Words:**  \n",
    "   - Use Python’s `split()` method to break the sentence into individual words.\n",
    "   \n",
    "2. **Sorting the Words:**  \n",
    "   - Apply Python’s built-in `sort()` function to arrange the words alphabetically.\n",
    "\n",
    "3. **Joining the Sorted Words:**  \n",
    "   - Use `join()` to reconstruct the sorted words into a sentence.\n",
    "\n",
    "## 7. Code (Optional)\n",
    "```python\n",
    "def sort_words(sentence):\n",
    "    words = sentence.split()  # Split the sentence into words\n",
    "    words.sort()  # Sort words alphabetically\n",
    "    return \" \".join(words)  # Join sorted words back into a string\n",
    "\n",
    "# Example Usage\n",
    "text = \"banana apple cherry date\"\n",
    "sorted_text = sort_words(text)\n",
    "print(sorted_text)  # Output: \"apple banana cherry date\"\n"
   ]
  },
  {
   "cell_type": "code",
   "execution_count": 5,
   "id": "2076b9cf",
   "metadata": {},
   "outputs": [
    {
     "name": "stdout",
     "output_type": "stream",
     "text": [
      "apple banana cherry date\n"
     ]
    }
   ],
   "source": [
    "def sort_sentences(sentences):\n",
    "    sen = sentences\n",
    "    sen.lower()  # Convert to lowercase\n",
    "    sen = sentences.split(' ')\n",
    "    sen.sort()\n",
    "    return ' '.join(sen)\n",
    "text = \"banana apple cherry date\"\n",
    "sorted_text = sort_sentences(text)\n",
    "print(sorted_text)  # Output: \"apple banana cherry date\""
   ]
  }
 ],
 "metadata": {
  "kernelspec": {
   "display_name": "Python 3",
   "language": "python",
   "name": "python3"
  },
  "language_info": {
   "codemirror_mode": {
    "name": "ipython",
    "version": 3
   },
   "file_extension": ".py",
   "mimetype": "text/x-python",
   "name": "python",
   "nbconvert_exporter": "python",
   "pygments_lexer": "ipython3",
   "version": "3.13.3"
  }
 },
 "nbformat": 4,
 "nbformat_minor": 5
}
