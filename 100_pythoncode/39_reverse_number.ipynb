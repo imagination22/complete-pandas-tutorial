{
 "cells": [
  {
   "cell_type": "code",
   "execution_count": null,
   "id": "a8ad57c4",
   "metadata": {},
   "outputs": [
    {
     "name": "stdout",
     "output_type": "stream",
     "text": [
      "321\n"
     ]
    }
   ],
   "source": [
    "a = 123\n",
    "b = str(a)\n",
    "a = b[::-1]\n",
    "print(a)"
   ]
  },
  {
   "cell_type": "code",
   "execution_count": 16,
   "id": "9c325bd8",
   "metadata": {},
   "outputs": [
    {
     "name": "stdout",
     "output_type": "stream",
     "text": [
      "123 -> 321\n"
     ]
    }
   ],
   "source": [
    "a = 123\n",
    "b=a\n",
    "rev = 0\n",
    "while a != 0:\n",
    "    dig = a % 10\n",
    "    #print(dig)\n",
    "    rev = rev * 10 + dig\n",
    "    #print(rev)\n",
    "    a //= 10\n",
    "    #print(a)\n",
    "print(b,'->',rev)\n",
    "  "
   ]
  }
 ],
 "metadata": {
  "kernelspec": {
   "display_name": "Python 3",
   "language": "python",
   "name": "python3"
  },
  "language_info": {
   "codemirror_mode": {
    "name": "ipython",
    "version": 3
   },
   "file_extension": ".py",
   "mimetype": "text/x-python",
   "name": "python",
   "nbconvert_exporter": "python",
   "pygments_lexer": "ipython3",
   "version": "3.13.3"
  }
 },
 "nbformat": 4,
 "nbformat_minor": 5
}
