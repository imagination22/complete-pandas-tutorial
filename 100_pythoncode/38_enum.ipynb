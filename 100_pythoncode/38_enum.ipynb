{
 "cells": [
  {
   "cell_type": "markdown",
   "id": "b8551c36",
   "metadata": {},
   "source": [
    "🐍 Python enum – What, Why, and How"
   ]
  },
  {
   "cell_type": "markdown",
   "id": "ef173ed2",
   "metadata": {},
   "source": [
    "✅ What is enum in Python?\n",
    "enum (short for enumeration) is a class-based way to define named constant values.\n",
    "\n"
   ]
  },
  {
   "cell_type": "code",
   "execution_count": 12,
   "id": "90837bb5",
   "metadata": {},
   "outputs": [],
   "source": [
    "from enum import Enum\n",
    "\n",
    "class Color(Enum):\n",
    "    RED = 1\n",
    "    GREEN = 2\n",
    "    BLUE = 3\n"
   ]
  },
  {
   "cell_type": "markdown",
   "id": "476327b8",
   "metadata": {},
   "source": [
    "🎯 Why Do We Need enum?"
   ]
  },
  {
   "cell_type": "markdown",
   "id": "ca907a4b",
   "metadata": {},
   "source": [
    "✅ 1. Improves Code Readability"
   ]
  },
  {
   "cell_type": "markdown",
   "id": "41a47b38",
   "metadata": {},
   "source": [
    "Instead of "
   ]
  },
  {
   "cell_type": "code",
   "execution_count": 13,
   "id": "02b9ffbf",
   "metadata": {},
   "outputs": [],
   "source": [
    "status = 1  # ← What is 1? Not clear\n"
   ]
  },
  {
   "cell_type": "markdown",
   "id": "8a3dfe4b",
   "metadata": {},
   "source": [
    "Use"
   ]
  },
  {
   "cell_type": "code",
   "execution_count": 14,
   "id": "eaee8133",
   "metadata": {},
   "outputs": [],
   "source": [
    "class Status(Enum):\n",
    "    ACTIVE = 1\n",
    "    INACTIVE = 0\n",
    "\n",
    "status = Status.ACTIVE  # ← Clear meaning\n"
   ]
  },
  {
   "cell_type": "markdown",
   "id": "b29865bf",
   "metadata": {},
   "source": [
    "✅ 2. Type Safety"
   ]
  },
  {
   "cell_type": "markdown",
   "id": "c963f2c5",
   "metadata": {},
   "source": [
    "Status(1)      # ✅ Valid\n",
    "Status(3)      # ❌ Raises ValueError – invalid\n"
   ]
  },
  {
   "cell_type": "markdown",
   "id": "c00bc827",
   "metadata": {},
   "source": [
    "✅ 3. Avoid Magic Numbers / Strings"
   ]
  },
  {
   "cell_type": "markdown",
   "id": "db3b749b",
   "metadata": {},
   "source": [
    "Instead of:"
   ]
  },
  {
   "cell_type": "code",
   "execution_count": 15,
   "id": "d21a9e4d",
   "metadata": {},
   "outputs": [
    {
     "name": "stdout",
     "output_type": "stream",
     "text": [
      "false\n"
     ]
    }
   ],
   "source": [
    "user_status = Status.ACTIVE \n",
    "if user_status == \"active\":\n",
    "    print(\"true\")\n",
    "else:\n",
    "    print(\"false\")\n"
   ]
  },
  {
   "cell_type": "markdown",
   "id": "2c0c4b5b",
   "metadata": {},
   "source": [
    "USE"
   ]
  },
  {
   "cell_type": "code",
   "execution_count": 16,
   "id": "c8bd039b",
   "metadata": {},
   "outputs": [
    {
     "name": "stdout",
     "output_type": "stream",
     "text": [
      "true\n"
     ]
    }
   ],
   "source": [
    "if user_status == Status.ACTIVE:\n",
    "    print(\"true\")"
   ]
  },
  {
   "cell_type": "markdown",
   "id": "49107dae",
   "metadata": {},
   "source": [
    "✅ 4. Group Related Constants"
   ]
  },
  {
   "cell_type": "code",
   "execution_count": 17,
   "id": "f72c02c2",
   "metadata": {},
   "outputs": [],
   "source": [
    "class Direction(Enum):\n",
    "    NORTH = 1\n",
    "    SOUTH = 2\n",
    "    EAST = 3\n",
    "    WEST = 4\n"
   ]
  },
  {
   "cell_type": "markdown",
   "id": "7eb94c6e",
   "metadata": {},
   "source": [
    "This organizes constants logically."
   ]
  },
  {
   "cell_type": "markdown",
   "id": "57053abf",
   "metadata": {},
   "source": [
    "✅ Example Usage"
   ]
  },
  {
   "cell_type": "code",
   "execution_count": 18,
   "id": "e941c530",
   "metadata": {},
   "outputs": [
    {
     "name": "stdout",
     "output_type": "stream",
     "text": [
      "Weekday.MON\n",
      "MON\n",
      "1\n"
     ]
    }
   ],
   "source": [
    "from enum import Enum\n",
    "\n",
    "class Weekday(Enum):\n",
    "    MON = 1\n",
    "    TUE = 2\n",
    "    WED = 3\n",
    "    THU = 4\n",
    "    FRI = 5\n",
    "\n",
    "print(Weekday.MON)         # Weekday.MON\n",
    "print(Weekday.MON.name)    # 'MON'\n",
    "print(Weekday.MON.value)   # 1\n"
   ]
  },
  {
   "cell_type": "markdown",
   "id": "e60ef0fe",
   "metadata": {},
   "source": [
    "🔁 Iterating Over Enums"
   ]
  },
  {
   "cell_type": "code",
   "execution_count": 19,
   "id": "fab455c4",
   "metadata": {},
   "outputs": [
    {
     "name": "stdout",
     "output_type": "stream",
     "text": [
      "MON 1\n",
      "TUE 2\n",
      "WED 3\n",
      "THU 4\n",
      "FRI 5\n"
     ]
    }
   ],
   "source": [
    "for day in Weekday:\n",
    "    print(day.name, day.value)\n"
   ]
  },
  {
   "cell_type": "markdown",
   "id": "36eb2cd8",
   "metadata": {},
   "source": [
    "🧠 When Should You Use enum?\n",
    "When you have a fixed set of related constants\n",
    "\n",
    "When you want self-documenting code\n",
    "\n",
    "When you need type-safe comparisons\n",
    "\n",
    "When you want to avoid magic numbers or strings"
   ]
  }
 ],
 "metadata": {
  "kernelspec": {
   "display_name": "Python 3",
   "language": "python",
   "name": "python3"
  },
  "language_info": {
   "codemirror_mode": {
    "name": "ipython",
    "version": 3
   },
   "file_extension": ".py",
   "mimetype": "text/x-python",
   "name": "python",
   "nbconvert_exporter": "python",
   "pygments_lexer": "ipython3",
   "version": "3.13.3"
  }
 },
 "nbformat": 4,
 "nbformat_minor": 5
}
