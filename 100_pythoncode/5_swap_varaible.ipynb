{
 "cells": [
  {
   "cell_type": "markdown",
   "id": "546ddf9d",
   "metadata": {},
   "source": [
    "# Swap Two Variables in Python\n",
    "\n",
    "## Problem Statement\n",
    "Write a Python program to swap the values of two variables.\n",
    "\n",
    "## Example\n",
    "\n",
    "### Input:\n"
   ]
  },
  {
   "cell_type": "code",
   "execution_count": 1,
   "id": "3d65baf8",
   "metadata": {},
   "outputs": [
    {
     "name": "stdout",
     "output_type": "stream",
     "text": [
      "a is 200\n",
      "b is 100\n",
      "x is 12\n",
      "y is 30\n"
     ]
    }
   ],
   "source": [
    "a = 100\n",
    "b = 200\n",
    "a , b = b , a\n",
    "print(f\"a is {a}\")\n",
    "print(f\"b is {b}\")\n",
    "\n",
    "x = 30\n",
    "y= 12 \n",
    "z=x\n",
    "x=y\n",
    "y=z\n",
    "print(f\"x is {x}\")\n",
    "print(f\"y is {y}\")"
   ]
  }
 ],
 "metadata": {
  "kernelspec": {
   "display_name": "Python 3",
   "language": "python",
   "name": "python3"
  },
  "language_info": {
   "codemirror_mode": {
    "name": "ipython",
    "version": 3
   },
   "file_extension": ".py",
   "mimetype": "text/x-python",
   "name": "python",
   "nbconvert_exporter": "python",
   "pygments_lexer": "ipython3",
   "version": "3.13.3"
  }
 },
 "nbformat": 4,
 "nbformat_minor": 5
}
