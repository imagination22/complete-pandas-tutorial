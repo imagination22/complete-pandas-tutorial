{
 "cells": [
  {
   "cell_type": "markdown",
   "id": "b393c35a",
   "metadata": {},
   "source": [
    "# HCF (GCD) Calculation in Python\n",
    "\n",
    "## Problem Statement\n",
    "Write a Python program to compute the **HCF (Highest Common Factor)** or **GCD (Greatest Common Divisor)** of two numbers using:\n",
    "1. Python's built-in `math.gcd()` function.\n",
    "2. The **Euclidean Algorithm**.\n",
    "\n",
    "## Example\n",
    "\n",
    "### **Input**\n",
    "Enter first number: 48 \n",
    "Enter second number: 18\n",
    "\n",
    "\n",
    "## Constraints\n",
    "The input numbers should be positive integers.\n",
    "\n",
    "If one number is 0, the GCD is the other number.\n",
    "\n",
    "The algorithm should handle large numbers efficiently.\n",
    "\n",
    "# Explanation of HCF (GCD) Calculation\n",
    "Step 1: 48 % 18 = 12  (New a = 18, New b = 12)\n",
    "Step 2: 18 % 12 = 6   (New a = 12, New b = 6)\n",
    "Step 3: 12 % 6 = 0    (New a = 6, New b = 0)\n",
    "Result: GCD = 6\n",
    "\n",
    "\n",
    "\n",
    "## What is HCF (GCD)?\n",
    "The **HCF (Highest Common Factor)** or **GCD (Greatest Common Divisor)** of two numbers is the largest number that divides both numbers without leaving a remainder.\n",
    "\n",
    "## Methods to Calculate GCD:\n",
    "### **1. Using `math.gcd()`**\n",
    "Python provides a built-in function in the `math` module to compute the GCD efficiently.\n",
    "\n",
    "```python\n",
    "import math\n",
    "\n",
    "# Input from user\n",
    "a = int(input(\"Enter first number: \"))\n",
    "b = int(input(\"Enter second number: \"))\n",
    "\n"
   ]
  },
  {
   "cell_type": "code",
   "execution_count": 8,
   "id": "b140fd2e",
   "metadata": {},
   "outputs": [
    {
     "name": "stdout",
     "output_type": "stream",
     "text": [
      "GCD of 56 and 98 using brute force method is 14\n"
     ]
    }
   ],
   "source": [
    "a = 56\n",
    "b = 98\n",
    "# Calculate GCD \n",
    "def gcd(x, y):\n",
    "    if x < y :\n",
    "        smaller = x\n",
    "    else:\n",
    "        smaller = y\n",
    "    for i in range(1, smaller + 1):\n",
    "        if (x % i == 0) and (y % i == 0):\n",
    "            gcd = i\n",
    "    return gcd  \n",
    "gcd_result = gcd(a, b)\n",
    "print(\"GCD of\", a, \"and\", b, \"using brute force method is\", gcd_result)"
   ]
  },
  {
   "cell_type": "code",
   "execution_count": 9,
   "id": "6e21642d",
   "metadata": {},
   "outputs": [
    {
     "name": "stdout",
     "output_type": "stream",
     "text": [
      "GCD of 48 and 18 is 6\n"
     ]
    }
   ],
   "source": [
    "# Calculate GCD using built-in function\n",
    "import math\n",
    "a = 48\n",
    "b = 18\n",
    "gcd = math.gcd(a, b)\n",
    "\n",
    "print(\"GCD of\", a, \"and\", b, \"is\", gcd)"
   ]
  },
  {
   "cell_type": "code",
   "execution_count": 10,
   "id": "8a1d3266",
   "metadata": {},
   "outputs": [
    {
     "name": "stdout",
     "output_type": "stream",
     "text": [
      "GCD of 48 and 18 using Euclidean algorithm is 6\n"
     ]
    }
   ],
   "source": [
    "a = 48\n",
    "b=18\n",
    "# Calculate GCD using Euclidean algorithm\n",
    "def gcd_euclidean(x, y):\n",
    "    while y:\n",
    "        x, y = y, x % y\n",
    "    return x  \n",
    "gcd_euclidean_result = gcd_euclidean(a, b)\n",
    "print(\"GCD of\", a, \"and\", b, \"using Euclidean algorithm is\", gcd_euclidean_result)  "
   ]
  },
  {
   "cell_type": "code",
   "execution_count": 11,
   "id": "684b816b",
   "metadata": {},
   "outputs": [
    {
     "name": "stdout",
     "output_type": "stream",
     "text": [
      "GCD of 56 and 98 using recursion is 14\n"
     ]
    }
   ],
   "source": [
    "a = 56\n",
    "b = 98      \n",
    "def gcd_recursive(x, y):        \n",
    "    if y == 0:\n",
    "        return x\n",
    "    else:\n",
    "        return gcd_recursive(y, x % y)\n",
    "gcd_recursive_result = gcd_recursive(a, b)\n",
    "print(\"GCD of\", a, \"and\", b, \"using recursion is\", gcd_recursive_result)"
   ]
  },
  {
   "cell_type": "code",
   "execution_count": 12,
   "id": "19ecd87f",
   "metadata": {},
   "outputs": [
    {
     "name": "stdout",
     "output_type": "stream",
     "text": [
      "GCD of 56 and 98 using subtraction method is 14\n"
     ]
    }
   ],
   "source": [
    "a= 56\n",
    "b = 98\n",
    "# Calculate GCD using subtraction method\n",
    "def gcd_subtraction(x, y):\n",
    "    while y:\n",
    "        if x > y:\n",
    "            x -= y\n",
    "        else:\n",
    "            y -= x\n",
    "    return x\n",
    "gcd_subtraction_result = gcd_subtraction(a, b)\n",
    "print(\"GCD of\", a, \"and\", b, \"using subtraction method is\", gcd_subtraction_result)\n"
   ]
  },
  {
   "cell_type": "code",
   "execution_count": null,
   "id": "3d408d02",
   "metadata": {},
   "outputs": [],
   "source": []
  }
 ],
 "metadata": {
  "kernelspec": {
   "display_name": "Python 3",
   "language": "python",
   "name": "python3"
  },
  "language_info": {
   "codemirror_mode": {
    "name": "ipython",
    "version": 3
   },
   "file_extension": ".py",
   "mimetype": "text/x-python",
   "name": "python",
   "nbconvert_exporter": "python",
   "pygments_lexer": "ipython3",
   "version": "3.13.3"
  }
 },
 "nbformat": 4,
 "nbformat_minor": 5
}
