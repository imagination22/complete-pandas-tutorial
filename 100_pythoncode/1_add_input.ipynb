{
 "cells": [
  {
   "cell_type": "markdown",
   "id": "c4848f43",
   "metadata": {},
   "source": [
    "# Python Program: Add Two Input Numbers\n",
    "\n",
    "## Problem Statement\n",
    "Write a Python program that takes two numerical inputs from the user and prints their sum.\n",
    "\n",
    "## Example\n",
    "\n",
    "### Input:\n"
   ]
  },
  {
   "cell_type": "code",
   "execution_count": 6,
   "id": "8a486846",
   "metadata": {},
   "outputs": [
    {
     "name": "stdout",
     "output_type": "stream",
     "text": [
      "hello World\n"
     ]
    }
   ],
   "source": [
    "print(\"hello World\")"
   ]
  },
  {
   "cell_type": "markdown",
   "id": "e157be3e",
   "metadata": {},
   "source": [
    "> ⚠️ **Note: Input in Jupyter Notebooks**\n",
    "\n",
    "The code below will appear to **take a long time to run** because `.ipynb` notebooks are **not optimized for `input()`** like a regular terminal.\n",
    "\n",
    "```python\n",
    "a = int(input(\"Enter your first number: \"))\n",
    "b = int(input(\"Enter your second number: \"))\n",
    "print(a + b)\n"
   ]
  },
  {
   "cell_type": "code",
   "execution_count": 7,
   "id": "1bcbb3a2",
   "metadata": {},
   "outputs": [
    {
     "name": "stdout",
     "output_type": "stream",
     "text": [
      "The total is:  60.0\n"
     ]
    }
   ],
   "source": [
    "num_1 = 40.0\n",
    "num_2 = 20.0\n",
    "total = num_1 + num_2\n",
    "print(\"The total is: \", total)"
   ]
  },
  {
   "cell_type": "markdown",
   "id": "f2b0bce5",
   "metadata": {},
   "source": [
    "Sum natural number using recursion "
   ]
  },
  {
   "cell_type": "code",
   "execution_count": 8,
   "id": "0af61e7b",
   "metadata": {},
   "outputs": [
    {
     "name": "stdout",
     "output_type": "stream",
     "text": [
      "The sum of the first 10 natural numbers is: 55\n"
     ]
    }
   ],
   "source": [
    "def  sum_natural_numbers(n):\n",
    "    \"\"\"Returns the sum of the first n natural numbers.\"\"\"\n",
    "    if n < 1:\n",
    "        return n\n",
    "    else:\n",
    "        return n + sum_natural_numbers(n - 1)\n",
    "print(\"The sum of the first 10 natural numbers is:\", sum_natural_numbers(10))"
   ]
  }
 ],
 "metadata": {
  "kernelspec": {
   "display_name": "Python 3",
   "language": "python",
   "name": "python3"
  },
  "language_info": {
   "codemirror_mode": {
    "name": "ipython",
    "version": 3
   },
   "file_extension": ".py",
   "mimetype": "text/x-python",
   "name": "python",
   "nbconvert_exporter": "python",
   "pygments_lexer": "ipython3",
   "version": "3.13.3"
  }
 },
 "nbformat": 4,
 "nbformat_minor": 5
}
