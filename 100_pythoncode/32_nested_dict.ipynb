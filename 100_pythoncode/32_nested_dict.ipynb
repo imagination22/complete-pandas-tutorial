{
 "cells": [
  {
   "cell_type": "markdown",
   "id": "07c42a44",
   "metadata": {},
   "source": [
    "# Create Nested Directory in Python\n",
    "\n",
    "## 1. Question\n",
    "How can we create a nested directory (multiple levels of folders) in Python?\n",
    "\n",
    "## 2. Case\n",
    "- **Input:** A path specifying multiple nested directories.\n",
    "- **Output:** The required directory structure is created.\n",
    "\n",
    "## 3. Example\n",
    "### Example 1:\n",
    "**Input:**  \n",
    "```python\n",
    "path = \"parent_dir/sub_dir1/sub_dir2\"\n",
    "Output: The directories parent_dir, sub_dir1, and sub_dir2 are created.\n",
    "\n",
    "Example 2:\n",
    "Input:\n",
    "\n",
    "python\n",
    "path = \"data/logs/errors\"\n",
    "Output: The directories data, logs, and errors are created.\n",
    "\n",
    "4. User Input\n",
    "The user provides a directory path.\n",
    "\n",
    "The program creates the necessary folder structure.\n",
    "\n",
    "5. Constraints\n",
    "If the directories already exist, Python should not raise an error.\n",
    "\n",
    "Works across operating systems (Windows, Linux, macOS).\n",
    "\n",
    "Requires Python 3.4+ for os.makedirs(exist_ok=True).\n",
    "\n",
    "6. Explanation / Theory to Solve the Problem\n",
    "Using os.makedirs()\n",
    "\n",
    "The os.makedirs() function creates a nested directory structure.\n",
    "\n",
    "The argument exist_ok=True ensures no error occurs if the directory already exists.\n",
    "\n",
    "Using pathlib.Path.mkdir() (Python 3.5+)\n",
    "\n",
    "Allows working with file paths in an object-oriented manner.\n",
    "\n",
    "7. Code (Optional)"
   ]
  },
  {
   "cell_type": "code",
   "execution_count": 5,
   "id": "1a2e7bb6",
   "metadata": {},
   "outputs": [
    {
     "name": "stdout",
     "output_type": "stream",
     "text": [
      "Requirement already satisfied: pathlib in c:\\users\\lenovo\\appdata\\local\\programs\\python\\python313\\lib\\site-packages (1.0.1)\n"
     ]
    },
    {
     "name": "stderr",
     "output_type": "stream",
     "text": [
      "\n",
      "[notice] A new release of pip is available: 25.0.1 -> 25.1.1\n",
      "[notice] To update, run: python.exe -m pip install --upgrade pip\n"
     ]
    }
   ],
   "source": [
    "! pip install pathlib"
   ]
  },
  {
   "cell_type": "code",
   "execution_count": 6,
   "id": "7cff8b15",
   "metadata": {},
   "outputs": [],
   "source": [
    "from pathlib import Path\n",
    "path = Path('C:\\\\Users\\\\Lenovo\\\\OneDrive\\\\Pictures\\\\python_new_dir\\\\demo_dir')\n",
    "path.mkdir(parents=True, exist_ok=True)"
   ]
  },
  {
   "cell_type": "markdown",
   "id": "33e7891d",
   "metadata": {},
   "source": [
    "mkdir will take 2 parameters , 1 parent = True , 2nd exist_ok = true"
   ]
  }
 ],
 "metadata": {
  "kernelspec": {
   "display_name": "Python 3",
   "language": "python",
   "name": "python3"
  },
  "language_info": {
   "codemirror_mode": {
    "name": "ipython",
    "version": 3
   },
   "file_extension": ".py",
   "mimetype": "text/x-python",
   "name": "python",
   "nbconvert_exporter": "python",
   "pygments_lexer": "ipython3",
   "version": "3.13.3"
  }
 },
 "nbformat": 4,
 "nbformat_minor": 5
}
