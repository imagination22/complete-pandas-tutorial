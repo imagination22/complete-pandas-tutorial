{
 "cells": [
  {
   "cell_type": "markdown",
   "id": "745fcb2f",
   "metadata": {},
   "source": [
    "    # Area of a Triangle in Python\n",
    "\n",
    "## Problem Statement\n",
    "Write a Python program to calculate the **area of a triangle** given its base and height.\n",
    "\n",
    "## Example\n",
    "\n",
    "### Input:\n"
   ]
  },
  {
   "cell_type": "code",
   "execution_count": 4,
   "id": "0697758a",
   "metadata": {},
   "outputs": [
    {
     "name": "stdout",
     "output_type": "stream",
     "text": [
      "the area of triangle with base12.5 and height5.5 is : 34.375\n"
     ]
    }
   ],
   "source": [
    "a = 10\n",
    "b= 20\n",
    "c = 30\n",
    "base = 12.5\n",
    "height = 5.5\n",
    "area  = (0.5) * base * height\n",
    "print(f\"the area of triangle with base{base} and height{height} is : {area}\")"
   ]
  },
  {
   "cell_type": "markdown",
   "id": "5e68bce9",
   "metadata": {},
   "source": [
    "\n",
    "## Code:\n",
    "```python\n",
    "import math\n",
    "\n",
    "# Input from the user\n",
    "a = float(input(\"Enter side a: \"))\n",
    "b = float(input(\"Enter side b: \"))\n",
    "c = float(input(\"Enter side c: \"))\n",
    "\n",
    "# Calculate semi-perimeter\n",
    "s = (a + b + c) / 2\n",
    "\n",
    "# Calculate area using Heron's formula\n",
    "area = math.sqrt(s * (s - a) * (s - b) * (s - c))\n",
    "\n",
    "# Display result\n",
    "print(\"Area of the triangle:\", area)\n"
   ]
  },
  {
   "cell_type": "code",
   "execution_count": 6,
   "id": "5f35e5fa",
   "metadata": {},
   "outputs": [
    {
     "name": "stdout",
     "output_type": "stream",
     "text": [
      "the area of triangle with sides 10, 10, and 10 is : 43.30127018922193\n"
     ]
    }
   ],
   "source": [
    "import math \n",
    "a= 10\n",
    "b= 10\n",
    "c=10\n",
    "s = (a + b + c) / 2\n",
    "area = math.sqrt(s * (s - a) * (s - b) * (s - c))\n",
    "print(f\"the area of triangle with sides {a}, {b}, and {c} is : {area}\")"
   ]
  },
  {
   "cell_type": "code",
   "execution_count": 8,
   "id": "2a092e37",
   "metadata": {},
   "outputs": [
    {
     "name": "stdout",
     "output_type": "stream",
     "text": [
      "The sides cannot form a triangle.\n"
     ]
    }
   ],
   "source": [
    "a= 10\n",
    "b= 20\n",
    "c= 30\n",
    "if (a + b > c) and (a + c > b) and (b + c > a):\n",
    "    print(\"The sides can form a triangle.\")\n",
    "    s = (a + b + c) / 2\n",
    "    area = math.sqrt(s * (s - a) * (s - b) * (s - c))   \n",
    "    print(f\"The area of the triangle is: {area}\")\n",
    "else:   \n",
    "    print(\"The sides cannot form a triangle.\")"
   ]
  }
 ],
 "metadata": {
  "kernelspec": {
   "display_name": "Python 3",
   "language": "python",
   "name": "python3"
  },
  "language_info": {
   "codemirror_mode": {
    "name": "ipython",
    "version": 3
   },
   "file_extension": ".py",
   "mimetype": "text/x-python",
   "name": "python",
   "nbconvert_exporter": "python",
   "pygments_lexer": "ipython3",
   "version": "3.13.3"
  }
 },
 "nbformat": 4,
 "nbformat_minor": 5
}
