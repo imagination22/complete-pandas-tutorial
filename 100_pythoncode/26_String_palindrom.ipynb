{
 "cells": [
  {
   "cell_type": "markdown",
   "id": "c2ee709c",
   "metadata": {},
   "source": [
    "# String Palindrome Checker\n",
    "\n",
    "## Description\n",
    "This program checks whether a given string is a palindrome. A palindrome is a word, phrase, or sequence that reads the same forward and backward.\n",
    "\n",
    "\"madam\" is a palindrome!\n",
    "\"hello\" is not a palindrome!\n",
    "\n",
    "is_palindrome(\"racecar\")  # Returns True\n",
    "is_palindrome(\"hello\")    # Returns False\n"
   ]
  },
  {
   "cell_type": "code",
   "execution_count": null,
   "id": "417e4567",
   "metadata": {},
   "outputs": [
    {
     "name": "stdout",
     "output_type": "stream",
     "text": [
      "m m\n",
      "a a\n",
      "d d\n",
      "a a\n",
      "m m\n",
      "yes\n"
     ]
    }
   ],
   "source": [
    "a = 'madam'\n",
    "\n",
    "def palindrom(a):\n",
    "    flag = True\n",
    "    for i in range(len(a)):\n",
    "        if a[i] == a[-(i+1)]:\n",
    "            flag = True\n",
    "            #print(a[i], a[-(i+1)])\n",
    "        else :\n",
    "            flag = False\n",
    "            break\n",
    "    return flag\n",
    "\n",
    "if palindrom(a):\n",
    "    print(\"yes\")\n",
    "else:\n",
    "    print(\"no\")\n"
   ]
  },
  {
   "cell_type": "code",
   "execution_count": 4,
   "id": "908eae56",
   "metadata": {},
   "outputs": [
    {
     "name": "stdout",
     "output_type": "stream",
     "text": [
      "yes\n"
     ]
    }
   ],
   "source": [
    "a = 'madam'\n",
    "rev = a[::-1]\n",
    "if a == rev:\n",
    "    print(\"yes\")\n",
    "else:\n",
    "    print(\"no\")"
   ]
  }
 ],
 "metadata": {
  "kernelspec": {
   "display_name": "Python 3",
   "language": "python",
   "name": "python3"
  },
  "language_info": {
   "codemirror_mode": {
    "name": "ipython",
    "version": 3
   },
   "file_extension": ".py",
   "mimetype": "text/x-python",
   "name": "python",
   "nbconvert_exporter": "python",
   "pygments_lexer": "ipython3",
   "version": "3.13.3"
  }
 },
 "nbformat": 4,
 "nbformat_minor": 5
}
