{
 "cells": [
  {
   "cell_type": "markdown",
   "id": "b091f915",
   "metadata": {},
   "source": [
    "# Python Data Structures Cheat Sheet - Interactive Jupyter Notebook\n",
    "\n",
    "# Table of Contents\n",
    "# ------------------\n",
    "# 🔹 LIST (Ordered, Mutable)\n",
    "# 🔹 STRING (Ordered, Immutable)\n",
    "# 🔹 SET (Unordered, No Duplicates)  \n",
    "## Set in mutable but item inside is not mutable . , hence we cannot have list inside set , but we can have tuple inside set.\n",
    "# 🔹 TUPLE (Ordered, Immutable)\n",
    "# 🔹 DICTIONARY (Key-Value Pairs, Unordered)\n",
    "# 🔹 Conversions\n",
    "# 🔹 Common Iterable Functions\n",
    "# 🔹 Useful Generators and Comprehensions\n",
    "# 🔹 Deque (Double-Ended Queue)\n",
    "# 🔹 Stack (Using List)\n",
    "# 🔹 Queue (Using deque)"
   ]
  },
  {
   "cell_type": "markdown",
   "id": "e77e3fe0",
   "metadata": {},
   "source": [
    "# 🔹 LIST (Ordered, Mutable)"
   ]
  },
  {
   "cell_type": "code",
   "execution_count": 23,
   "id": "bc4f0ef4",
   "metadata": {},
   "outputs": [
    {
     "name": "stdout",
     "output_type": "stream",
     "text": [
      "\n",
      "🔹 LIST Examples\n",
      "Original List: ['apple', 'banana', 'cherry']\n",
      "After append: ['apple', 'banana', 'cherry', 'date']\n",
      "After insert at index 1: ['apple', 'blueberry', 'banana', 'cherry', 'date']\n",
      "After removing 'banana': ['apple', 'blueberry', 'cherry', 'date']\n",
      "Popped item: date\n",
      "After pop: ['apple', 'blueberry', 'cherry']\n",
      "Index of 'cherry': 2\n",
      "Count of 'apple': 1\n",
      "Sorted list: ['apple', 'blueberry', 'cherry']\n",
      "Reversed list: ['cherry', 'blueberry', 'apple']\n",
      "Trimmed list (no first/last): ['blueberry']\n"
     ]
    }
   ],
   "source": [
    "print(\"\\n🔹 LIST Examples\")\n",
    "\n",
    "items = [\"apple\", \"banana\", \"cherry\"]\n",
    "print(\"Original List:\", items)\n",
    "\n",
    "items.append(\"date\")\n",
    "print(\"After append:\", items)\n",
    "\n",
    "items.insert(1, \"blueberry\")\n",
    "print(\"After insert at index 1:\", items)\n",
    "\n",
    "items.remove(\"banana\")\n",
    "print(\"After removing 'banana':\", items)\n",
    "\n",
    "print(\"Popped item:\", items.pop())\n",
    "print(\"After pop:\", items)\n",
    "\n",
    "print(\"Index of 'cherry':\", items.index(\"cherry\"))\n",
    "print(\"Count of 'apple':\", items.count(\"apple\"))\n",
    "\n",
    "items.sort()\n",
    "print(\"Sorted list:\", items)\n",
    "\n",
    "items.reverse()\n",
    "print(\"Reversed list:\", items)\n",
    "\n",
    "# Trimming list (removing first and last element)\n",
    "trimmed = items[1:-1]\n",
    "print(\"Trimmed list (no first/last):\", trimmed)\n",
    "\n",
    "# 🔹 STRING (Ordered, Immutable)\n"
   ]
  },
  {
   "cell_type": "markdown",
   "id": "689b42dd",
   "metadata": {},
   "source": [
    "# String"
   ]
  },
  {
   "cell_type": "code",
   "execution_count": 24,
   "id": "b470f13e",
   "metadata": {},
   "outputs": [
    {
     "name": "stdout",
     "output_type": "stream",
     "text": [
      "\n",
      "🔹 STRING Examples\n",
      "Modified string: Hello world\n",
      "Replace 'world' with 'Python': Hello Python\n",
      "Split string: ['Hello', 'world']\n",
      "Join list: a-b-c\n",
      "Uppercase: HELLO WORLD\n",
      "Check substring 'H' in s: True\n"
     ]
    }
   ],
   "source": [
    "print(\"\\n🔹 STRING Examples\")\n",
    "\n",
    "s = \"hello world\"\n",
    "l = list(s)\n",
    "l[0] = \"H\"\n",
    "s = \"\".join(l)\n",
    "print(\"Modified string:\", s)\n",
    "\n",
    "print(\"Replace 'world' with 'Python':\", s.replace(\"world\", \"Python\"))\n",
    "print(\"Split string:\", s.split(\" \"))\n",
    "print(\"Join list:\", \"-\".join([\"a\", \"b\", \"c\"]))\n",
    "print(\"Uppercase:\", s.upper())\n",
    "print(\"Check substring 'H' in s:\", \"H\" in s)\n"
   ]
  },
  {
   "cell_type": "markdown",
   "id": "e12f43eb",
   "metadata": {},
   "source": [
    "# 🔹 SET (Unordered, No Duplicates)"
   ]
  },
  {
   "cell_type": "code",
   "execution_count": 25,
   "id": "e1ec93cf",
   "metadata": {},
   "outputs": [
    {
     "name": "stdout",
     "output_type": "stream",
     "text": [
      "\n",
      "🔹 SET Examples\n",
      "After add: {'Charlie', 'Bob', 'Alice'}\n",
      "After discard 'Bob': {'Charlie', 'Alice'}\n",
      "Check 'Alice' in guests: True\n",
      "Union: {1, 2, 3, 4, 5}\n",
      "Intersection: {3}\n",
      "Difference: {1, 2}\n",
      "Symmetric Difference: {1, 2, 4, 5}\n"
     ]
    }
   ],
   "source": [
    "print(\"\\n🔹 SET Examples\")\n",
    "\n",
    "guests = {\"Alice\", \"Bob\"}\n",
    "guests.add(\"Charlie\")\n",
    "print(\"After add:\", guests)\n",
    "\n",
    "guests.discard(\"Bob\")\n",
    "print(\"After discard 'Bob':\", guests)\n",
    "\n",
    "print(\"Check 'Alice' in guests:\", \"Alice\" in guests)\n",
    "\n",
    "set1 = {1, 2, 3}\n",
    "set2 = {3, 4, 5}\n",
    "print(\"Union:\", set1 | set2)\n",
    "print(\"Intersection:\", set1 & set2)\n",
    "print(\"Difference:\", set1 - set2)\n",
    "print(\"Symmetric Difference:\", set1 ^ set2)\n"
   ]
  },
  {
   "cell_type": "code",
   "execution_count": 26,
   "id": "a3eccd14",
   "metadata": {},
   "outputs": [],
   "source": [
    "# 🔹 TUPLE (Ordered, Immutable)"
   ]
  },
  {
   "cell_type": "code",
   "execution_count": 27,
   "id": "36a623dc",
   "metadata": {},
   "outputs": [
    {
     "name": "stdout",
     "output_type": "stream",
     "text": [
      "\n",
      "🔹 TUPLE Examples\n",
      "Original tuple: (10, 20, 30, 20)\n",
      "Index of 20: 1\n",
      "Count of 20: 2\n",
      "Modified tuple: (100, 20, 30, 20)\n"
     ]
    }
   ],
   "source": [
    "print(\"\\n🔹 TUPLE Examples\")\n",
    "\n",
    "t = (10, 20, 30, 20)\n",
    "print(\"Original tuple:\", t)\n",
    "print(\"Index of 20:\", t.index(20))\n",
    "print(\"Count of 20:\", t.count(20))\n",
    "\n",
    "# Convert to list to modify\n",
    "l = list(t)\n",
    "l[0] = 100\n",
    "t = tuple(l)\n",
    "print(\"Modified tuple:\", t)\n"
   ]
  },
  {
   "cell_type": "markdown",
   "id": "1950ea57",
   "metadata": {},
   "source": [
    "# 🔹 DICTIONARY (Key-Value Pairs, Unordered)"
   ]
  },
  {
   "cell_type": "code",
   "execution_count": 28,
   "id": "0192fbd6",
   "metadata": {},
   "outputs": [
    {
     "name": "stdout",
     "output_type": "stream",
     "text": [
      "\n",
      "🔹 DICTIONARY Examples\n",
      "After adding Charlie: {'Alice': '123', 'Bob': '456', 'Charlie': '789'}\n",
      "After popping Bob: {'Alice': '123', 'Charlie': '789'}\n",
      "Get Alice: 123\n",
      "Get Dave (with default): Not Found\n",
      "Alice: 123\n",
      "Charlie: 789\n"
     ]
    }
   ],
   "source": [
    "print(\"\\n🔹 DICTIONARY Examples\")\n",
    "\n",
    "contacts = {\"Alice\": \"123\", \"Bob\": \"456\"}\n",
    "contacts[\"Charlie\"] = \"789\"\n",
    "print(\"After adding Charlie:\", contacts)\n",
    "\n",
    "contacts.pop(\"Bob\")\n",
    "print(\"After popping Bob:\", contacts)\n",
    "\n",
    "print(\"Get Alice:\", contacts.get(\"Alice\"))\n",
    "print(\"Get Dave (with default):\", contacts.get(\"Dave\", \"Not Found\"))\n",
    "\n",
    "for name, number in contacts.items():\n",
    "    print(f\"{name}: {number}\")\n"
   ]
  },
  {
   "cell_type": "markdown",
   "id": "df532d55",
   "metadata": {},
   "source": [
    "# 🔹 Conversions"
   ]
  },
  {
   "cell_type": "code",
   "execution_count": 29,
   "id": "bbdcf0bd",
   "metadata": {},
   "outputs": [
    {
     "name": "stdout",
     "output_type": "stream",
     "text": [
      "\n",
      "🔹 Conversions\n",
      "List → Set: {1, 2, 3}\n",
      "Set → List: ['b', 'a']\n",
      "String → List: ['a', 'b', 'c']\n",
      "List → String: abc\n",
      "Tuple → List: [1, 2, 3]\n",
      "List → Tuple: (1, 2, 3)\n",
      "Dict Keys → List: ['Alice', 'Charlie']\n",
      "Dict Values → List: ['123', '789']\n"
     ]
    }
   ],
   "source": [
    "print(\"\\n🔹 Conversions\")\n",
    "\n",
    "print(\"List → Set:\", set([1, 2, 2, 3]))\n",
    "print(\"Set → List:\", list({\"a\", \"b\", \"a\"}))\n",
    "print(\"String → List:\", list(\"abc\"))\n",
    "print(\"List → String:\", \"\".join(['a', 'b', 'c']))\n",
    "print(\"Tuple → List:\", list((1, 2, 3)))\n",
    "print(\"List → Tuple:\", tuple([1, 2, 3]))\n",
    "print(\"Dict Keys → List:\", list(contacts.keys()))\n",
    "print(\"Dict Values → List:\", list(contacts.values()))"
   ]
  },
  {
   "cell_type": "markdown",
   "id": "a25ac961",
   "metadata": {},
   "source": [
    "# 🔹 Common Iterable Functions"
   ]
  },
  {
   "cell_type": "code",
   "execution_count": 30,
   "id": "7bb4363e",
   "metadata": {},
   "outputs": [
    {
     "name": "stdout",
     "output_type": "stream",
     "text": [
      "\n",
      "🔹 Common Iterable Functions\n",
      "Sum: 10\n",
      "Min: 1\n",
      "Max: 4\n",
      "Sorted: [1, 2, 3]\n",
      "Reversed: ['c', 'b', 'a']\n",
      "All true: True\n",
      "Any true: True\n",
      "Enumerate: [(0, 'a'), (1, 'b'), (2, 'c')]\n",
      "Zip: [(1, 'a'), (2, 'b')]\n",
      "Map (upper): ['A', 'B', 'C']\n",
      "Filter (isupper): ['A', 'C']\n",
      "Reduce (sum): 10\n"
     ]
    }
   ],
   "source": [
    "print(\"\\n🔹 Common Iterable Functions\")\n",
    "\n",
    "nums = [1, 2, 3, 4]\n",
    "print(\"Sum:\", sum(nums))\n",
    "print(\"Min:\", min(nums))\n",
    "print(\"Max:\", max(nums))\n",
    "print(\"Sorted:\", sorted({3, 1, 2}))\n",
    "print(\"Reversed:\", list(reversed(\"abc\")))\n",
    "print(\"All true:\", all([True, 1, \"yes\"]))\n",
    "print(\"Any true:\", any([0, False, \"yes\"]))\n",
    "print(\"Enumerate:\", list(enumerate(\"abc\")))\n",
    "print(\"Zip:\", list(zip([1, 2], [\"a\", \"b\"])))\n",
    "print(\"Map (upper):\", list(map(str.upper, \"abc\")))\n",
    "print(\"Filter (isupper):\", list(filter(str.isupper, \"AbC\")))\n",
    "\n",
    "from functools import reduce\n",
    "print(\"Reduce (sum):\", reduce(lambda x, y: x + y, [1, 2, 3, 4]))\n"
   ]
  },
  {
   "cell_type": "markdown",
   "id": "00ad9604",
   "metadata": {},
   "source": [
    "# 🔹 Useful Generators and Comprehensions"
   ]
  },
  {
   "cell_type": "code",
   "execution_count": 31,
   "id": "5422620a",
   "metadata": {},
   "outputs": [
    {
     "name": "stdout",
     "output_type": "stream",
     "text": [
      "\n",
      "🔹 Useful Generators and Comprehensions\n",
      "Squares Generator (0–4): [0, 1, 4, 9, 16]\n",
      "Even numbers generator (0–9): [0, 2, 4, 6, 8]\n",
      "Cartesian Product (A/B × 0/1): [('A', 0), ('A', 1), ('B', 0), ('B', 1)]\n"
     ]
    }
   ],
   "source": [
    "print(\"\\n🔹 Useful Generators and Comprehensions\")\n",
    "\n",
    "squares = (x * x for x in range(5))\n",
    "print(\"Squares Generator (0–4):\", list(squares))\n",
    "\n",
    "even_numbers = (x for x in range(10) if x % 2 == 0)\n",
    "print(\"Even numbers generator (0–9):\", list(even_numbers))\n",
    "\n",
    "cartesian = ((x, y) for x in \"AB\" for y in range(2))\n",
    "print(\"Cartesian Product (A/B × 0/1):\", list(cartesian))"
   ]
  },
  {
   "cell_type": "markdown",
   "id": "7d6fee67",
   "metadata": {},
   "source": [
    "# 🔹 Deque (Double-Ended Queue) "
   ]
  },
  {
   "cell_type": "code",
   "execution_count": 32,
   "id": "572c51c6",
   "metadata": {},
   "outputs": [
    {
     "name": "stdout",
     "output_type": "stream",
     "text": [
      "\n",
      "🔹 DEQUE Examples\n",
      "After append & appendleft: deque([0, 1, 2, 3, 4])\n",
      "After pop & popleft: deque([1, 2, 3])\n"
     ]
    }
   ],
   "source": [
    "print(\"\\n🔹 DEQUE Examples\")\n",
    "\n",
    "from collections import deque\n",
    "\n",
    "d = deque([1, 2, 3])\n",
    "d.append(4)\n",
    "d.appendleft(0)\n",
    "print(\"After append & appendleft:\", d)\n",
    "\n",
    "d.pop()\n",
    "d.popleft()\n",
    "print(\"After pop & popleft:\", d)\n"
   ]
  },
  {
   "cell_type": "markdown",
   "id": "163c7e86",
   "metadata": {},
   "source": [
    "# 🔹 Stack (Using List)"
   ]
  },
  {
   "cell_type": "code",
   "execution_count": 33,
   "id": "0f896126",
   "metadata": {},
   "outputs": [
    {
     "name": "stdout",
     "output_type": "stream",
     "text": [
      "\n",
      "🔹 STACK Examples\n",
      "Stack: [1, 2, 3]\n",
      "Popped: 3\n",
      "Stack after pop: [1, 2]\n"
     ]
    }
   ],
   "source": [
    "print(\"\\n🔹 STACK Examples\")\n",
    "\n",
    "stack = []\n",
    "stack.append(1)\n",
    "stack.append(2)\n",
    "stack.append(3)\n",
    "print(\"Stack:\", stack)\n",
    "print(\"Popped:\", stack.pop())\n",
    "print(\"Stack after pop:\", stack)"
   ]
  },
  {
   "cell_type": "markdown",
   "id": "6eb8e63e",
   "metadata": {},
   "source": [
    "\n",
    "# 🔹 Queue (Using deque)"
   ]
  },
  {
   "cell_type": "code",
   "execution_count": 34,
   "id": "d38a9fe9",
   "metadata": {},
   "outputs": [
    {
     "name": "stdout",
     "output_type": "stream",
     "text": [
      "\n",
      "🔹 QUEUE Examples\n",
      "Queue: deque(['first', 'second', 'third'])\n",
      "Dequeued: first\n",
      "Queue after popleft: deque(['second', 'third'])\n"
     ]
    }
   ],
   "source": [
    "print(\"\\n🔹 QUEUE Examples\")\n",
    "\n",
    "queue = deque()\n",
    "queue.append(\"first\")\n",
    "queue.append(\"second\")\n",
    "queue.append(\"third\")\n",
    "print(\"Queue:\", queue)\n",
    "print(\"Dequeued:\", queue.popleft())\n",
    "print(\"Queue after popleft:\", queue)"
   ]
  },
  {
   "cell_type": "markdown",
   "id": "4581c2f0",
   "metadata": {},
   "source": []
  }
 ],
 "metadata": {
  "kernelspec": {
   "display_name": "Python 3",
   "language": "python",
   "name": "python3"
  },
  "language_info": {
   "codemirror_mode": {
    "name": "ipython",
    "version": 3
   },
   "file_extension": ".py",
   "mimetype": "text/x-python",
   "name": "python",
   "nbconvert_exporter": "python",
   "pygments_lexer": "ipython3",
   "version": "3.13.3"
  }
 },
 "nbformat": 4,
 "nbformat_minor": 5
}
