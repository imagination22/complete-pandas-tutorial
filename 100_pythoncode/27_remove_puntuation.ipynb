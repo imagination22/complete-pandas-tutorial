{
 "cells": [
  {
   "cell_type": "markdown",
   "id": "2fb03c59",
   "metadata": {},
   "source": [
    "# Puntuation -\n",
    "(){}[]-_\";,'!<>?\n",
    "Hello !!!! \n",
    "hello"
   ]
  },
  {
   "cell_type": "markdown",
   "id": "b216608e",
   "metadata": {},
   "source": [
    "# Removing Punctuation from a String in Python\n",
    "\n",
    "## Question\n",
    "How can we remove punctuation from a given string in Python efficiently?\n",
    "\n",
    "## Explanation\n",
    "To remove punctuation from a string, we can use Python's `string` module along with the `translate()` method. The `string.punctuation` attribute provides a set of commonly used punctuation characters, which we can filter out using `str.maketrans()`.\n",
    "\n",
    "### Code Implementation\n",
    "```python\n",
    "import string\n",
    "\n",
    "def remove_punctuation(s):\n",
    "    return s.translate(str.maketrans('', '', string.punctuation))\n",
    "\n",
    "# Example Usage\n",
    "text = \"Hello, world! How's it going?\"\n",
    "clean_text = remove_punctuation(text)\n",
    "print(clean_text)  # Output: \"Hello world Hows it going\"\n"
   ]
  },
  {
   "cell_type": "code",
   "execution_count": null,
   "id": "19ac0242",
   "metadata": {},
   "outputs": [
    {
     "name": "stdout",
     "output_type": "stream",
     "text": [
      " hey   how are you doing  all good  \n"
     ]
    }
   ],
   "source": [
    "empty_string = ''\n",
    "input_string = \" hey ! , how are you doing ? all good $ \"\n",
    "punc= '''~`!@#$%^&*()_-+={[}]|\\:;\"'<,>.?/}'''\n",
    "\n",
    "for i in input_string:\n",
    "    if i not in punc:\n",
    "        empty_string += i\n",
    "print(empty_string)"
   ]
  },
  {
   "cell_type": "code",
   "execution_count": 3,
   "id": "f72d6c7d",
   "metadata": {},
   "outputs": [
    {
     "name": "stdout",
     "output_type": "stream",
     "text": [
      "Python is amazing Coding\n"
     ]
    }
   ],
   "source": [
    "import re\n",
    "\n",
    "def remove_punctuation(s):\n",
    "    return re.sub(r'[^\\w\\s]', '', s)\n",
    "\n",
    "text = \"Python is amazing!!! #Coding\"\n",
    "clean_text = remove_punctuation(text)\n",
    "print(clean_text)  # Output: \"Python is amazing Coding\"\n"
   ]
  }
 ],
 "metadata": {
  "kernelspec": {
   "display_name": "Python 3",
   "language": "python",
   "name": "python3"
  },
  "language_info": {
   "codemirror_mode": {
    "name": "ipython",
    "version": 3
   },
   "file_extension": ".py",
   "mimetype": "text/x-python",
   "name": "python",
   "nbconvert_exporter": "python",
   "pygments_lexer": "ipython3",
   "version": "3.13.3"
  }
 },
 "nbformat": 4,
 "nbformat_minor": 5
}
