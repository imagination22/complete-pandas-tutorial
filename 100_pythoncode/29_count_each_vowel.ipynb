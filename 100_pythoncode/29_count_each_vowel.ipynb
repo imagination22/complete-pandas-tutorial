{
 "cells": [
  {
   "cell_type": "markdown",
   "id": "ff33a08e",
   "metadata": {},
   "source": [
    "# Count Each Vowel in a String\n",
    "\n",
    "## 1. Question\n",
    "How can we count the occurrences of each vowel (`a, e, i, o, u`) in a given string?\n",
    "\n",
    "## 2. Case\n",
    "- **Input:** A string containing words, spaces, and punctuation.\n",
    "- **Output:** A dictionary or list showing the count of each vowel.\n",
    "\n",
    "## 3. Example\n",
    "### Example 1:\n",
    "**Input:** `\"hello world\"`  \n",
    "**Output:** `{ 'a': 0, 'e': 1, 'i': 0, 'o': 2, 'u': 0 }`\n",
    "\n",
    "### Example 2:\n",
    "**Input:** `\"Programming is fun\"`  \n",
    "**Output:** `{ 'a': 1, 'e': 0, 'i': 2, 'o': 2, 'u': 1 }`\n",
    "\n",
    "## 4. User Input\n",
    "- The user provides a sentence or word.\n",
    "- The program processes each character to count vowels.\n",
    "\n",
    "## 5. Constraints\n",
    "- The input string may contain uppercase and lowercase letters.\n",
    "- The program should be **case insensitive** (`A` and `a` should be counted together).\n",
    "- If no vowels exist, counts should remain `0`.\n",
    "\n",
    "## 6. Explanation / Theory to Solve the Problem\n",
    "1. **Iterating Over the String:**  \n",
    "   - Loop through each character of the string.\n",
    "   \n",
    "2. **Checking for Vowels:**  \n",
    "   - Compare each character against `'a, e, i, o, u'`, including uppercase versions.\n",
    "   \n",
    "3. **Counting Occurrences:**  \n",
    "   - Use a dictionary to store and update vowel counts.\n",
    "\n",
    "## 7. Code (Optional)\n",
    "```python\n",
    "def count_vowels(s):\n",
    "    vowels = \"aeiou\"\n",
    "    s = s.lower()  # Convert to lowercase for case insensitivity\n",
    "    vowel_count = {v: 0 for v in vowels}  # Initialize counts\n",
    "\n",
    "    for char in s:\n",
    "        if char in vowels:\n",
    "            vowel_count[char] += 1  # Increase count if character is a vowel\n",
    "    \n",
    "    return vowel_count\n",
    "\n",
    "# Example Usage\n",
    "text = \"Programming is fun\"\n",
    "print(count_vowels(text))  # Output: {'a': 1, 'e': 0, 'i': 2, 'o': 2, 'u': 1}\n"
   ]
  },
  {
   "cell_type": "code",
   "execution_count": 3,
   "id": "0acfa6ef",
   "metadata": {},
   "outputs": [
    {
     "name": "stdout",
     "output_type": "stream",
     "text": [
      "{'a': 1, 'e': 2, 'i': 0, 'o': 4, 'u': 0}\n",
      "{'a': 3, 'e': 4, 'i': 1, 'o': 1, 'u': 2}\n"
     ]
    }
   ],
   "source": [
    "input_string = 'hello world , I  am new to python'\n",
    "\n",
    "def vow_each_count(ip_str):\n",
    "    initial_vow_count = {'a':0 , 'e':0 , 'i':0 , 'o':0 , 'u':0}\n",
    "    ip_sorted_str = ip_str.lower()\n",
    "    for i in ip_str:\n",
    "        if i in initial_vow_count :\n",
    "            initial_vow_count[i] +=1\n",
    "    \n",
    "    return initial_vow_count\n",
    "\n",
    "print(vow_each_count(input_string))\n",
    "input_string = \"elephant is under umbrella of  ant\"\n",
    "print(vow_each_count(input_string))\n"
   ]
  }
 ],
 "metadata": {
  "kernelspec": {
   "display_name": "Python 3",
   "language": "python",
   "name": "python3"
  },
  "language_info": {
   "codemirror_mode": {
    "name": "ipython",
    "version": 3
   },
   "file_extension": ".py",
   "mimetype": "text/x-python",
   "name": "python",
   "nbconvert_exporter": "python",
   "pygments_lexer": "ipython3",
   "version": "3.13.3"
  }
 },
 "nbformat": 4,
 "nbformat_minor": 5
}
