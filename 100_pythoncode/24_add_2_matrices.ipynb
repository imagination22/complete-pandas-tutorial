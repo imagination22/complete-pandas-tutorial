{
 "cells": [
  {
   "cell_type": "code",
   "execution_count": 9,
   "id": "24cfd0ca",
   "metadata": {},
   "outputs": [
    {
     "name": "stdout",
     "output_type": "stream",
     "text": [
      "Sum of two matrices:\n",
      "[4, 6, 13]\n",
      "[12, 10, 21]\n",
      "[8, 11, 8]\n"
     ]
    }
   ],
   "source": [
    "a = [[1,2,5],[6,8,12],[3,4,7]]\n",
    "b= [[3,4,8],[6,2,9],[5,7,1]]\n",
    "c = [[0,0,0],[0,0,0],[0,0,0]]\n",
    "for i in range(len(a)):\n",
    "    for j in range(len(a[0])):\n",
    "        c[i][j] = a[i][j] + b[i][j]\n",
    "print(\"Sum of two matrices:\")\n",
    "for row in c:\n",
    "    print(row)"
   ]
  },
  {
   "cell_type": "markdown",
   "id": "eda6de66",
   "metadata": {},
   "source": [
    "Add 2 matrix"
   ]
  },
  {
   "cell_type": "code",
   "execution_count": 10,
   "id": "d73a9ae3",
   "metadata": {},
   "outputs": [
    {
     "name": "stdout",
     "output_type": "stream",
     "text": [
      "Sum of two matrices:\n",
      "[4, 6, 13]\n",
      "[12, 10, 21]\n",
      "[8, 11, 8]\n"
     ]
    }
   ],
   "source": [
    "a = [[1,2,5],[6,8,12],[3,4,7]]\n",
    "b= [[3,4,8],[6,2,9],[5,7,1]]\n",
    "c = [[0,0,0],[0,0,0],[0,0,0]]\n",
    "for i in range(len(a)):\n",
    "    for j in range(len(a[0])):\n",
    "        c[i][j] = a[i][j] + b[i][j]\n",
    "print(\"Sum of two matrices:\")\n",
    "for row in c:\n",
    "    print(row)"
   ]
  },
  {
   "cell_type": "markdown",
   "id": "8545919d",
   "metadata": {},
   "source": [
    "transpose matrix"
   ]
  },
  {
   "cell_type": "code",
   "execution_count": 11,
   "id": "0d0298d4",
   "metadata": {},
   "outputs": [
    {
     "name": "stdout",
     "output_type": "stream",
     "text": [
      "Transpose of the first matrix:\n",
      "[1, 6, 3]\n",
      "[2, 8, 4]\n",
      "[5, 12, 7]\n",
      "Transpose of the first matrix:\n",
      "[1, 4]\n",
      "[2, 5]\n",
      "[3, 6]\n",
      "Transpose of the second matrix:\n",
      "[3, 6, 5]\n",
      "[4, 2, 7]\n",
      "[8, 9, 1]\n"
     ]
    }
   ],
   "source": [
    "a = [[1,2,5],[6,8,12],[3,4,7]]\n",
    "def  transpose(matrix):\n",
    "    c= []\n",
    "    rows = len(matrix)\n",
    "    cols = len(matrix[0])\n",
    "    c =  [[0]* rows for _ in range(cols)]\n",
    "    #print(c)         \n",
    "    for i in range(len(matrix)):\n",
    "        for j  in range(len(matrix[0])):\n",
    "            c[j][i] = matrix[i][j]\n",
    "    return c\n",
    "t = transpose(a)\n",
    "print(\"Transpose of the first matrix:\")     \n",
    "for row in t:\n",
    "    print(row)\n",
    "\n",
    "f = [[1,2,3],[4,5,6]]\n",
    "t = transpose(f)\n",
    "print(\"Transpose of the first matrix:\")\n",
    "for row in t:\n",
    "    print(row)  \n",
    "\n",
    "t = transpose(b)\n",
    "print(\"Transpose of the second matrix:\")\n",
    "for row in t:\n",
    "    print(row)\n"
   ]
  },
  {
   "cell_type": "markdown",
   "id": "2ca9b70f",
   "metadata": {},
   "source": [
    "n Python, the underscore _ is often used as a convention to indicate a throwaway variable—meaning that we don’t actually need to use its value.\n",
    "It’s like saying, “I need to loop cols times, but I don’t actually care about the loop variable.” Since we never use _ inside the loop, it signals to readers of the code that the variable is unnecessary."
   ]
  },
  {
   "cell_type": "code",
   "execution_count": 12,
   "id": "6f409639",
   "metadata": {},
   "outputs": [
    {
     "name": "stdout",
     "output_type": "stream",
     "text": [
      "Transpose of the matrix:\n",
      "[1, 6, 3]\n",
      "[2, 8, 4]\n",
      "[5, 12, 7]\n"
     ]
    }
   ],
   "source": [
    "a = [[1,2,5],[6,8,12],[3,4,7]]\n",
    "def transpose(matrix):\n",
    "    return [[matrix[j][i] for j in range(len(matrix))] for i in range(len(matrix[0]))]  \n",
    "b = transpose(a)\n",
    "print(\"Transpose of the matrix:\")\n",
    "for row in b:\n",
    "    print(row)"
   ]
  }
 ],
 "metadata": {
  "kernelspec": {
   "display_name": "Python 3",
   "language": "python",
   "name": "python3"
  },
  "language_info": {
   "codemirror_mode": {
    "name": "ipython",
    "version": 3
   },
   "file_extension": ".py",
   "mimetype": "text/x-python",
   "name": "python",
   "nbconvert_exporter": "python",
   "pygments_lexer": "ipython3",
   "version": "3.13.3"
  }
 },
 "nbformat": 4,
 "nbformat_minor": 5
}
