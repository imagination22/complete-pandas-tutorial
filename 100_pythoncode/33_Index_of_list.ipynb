{
 "cells": [
  {
   "cell_type": "markdown",
   "id": "8c1463af",
   "metadata": {},
   "source": [
    "    # Access Index of a List Using For Loop in Python\n",
    "\n",
    "## Introduction\n",
    "In Python, we can access the index of each element in a list using the `enumerate()` function inside a `for` loop. This allows us to retrieve both the index and the corresponding element from the list.\n",
    "\n",
    "## Python Code\n",
    "```python\n",
    "# Define a list\n",
    "my_list = [\"apple\", \"banana\", \"cherry\", \"date\"]\n",
    "\n",
    "# Using enumerate() to access index and element\n"
   ]
  },
  {
   "cell_type": "markdown",
   "id": "67cd30d1",
   "metadata": {},
   "source": [
    "\n",
    "## Explanation\n",
    "- We use `enumerate(my_list)` to get both the index and the element in the loop.\n",
    "- The `print()` function displays the index and its corresponding value in the list.\n",
    "\n",
    "This method is handy when you need to track the position of elements in a list while iterating over them.\n"
   ]
  },
  {
   "cell_type": "code",
   "execution_count": 1,
   "id": "d2bb8aa7",
   "metadata": {},
   "outputs": [
    {
     "name": "stdout",
     "output_type": "stream",
     "text": [
      "Item 0: apple\n",
      "Item 1: banana\n",
      "Item 2: cherry\n"
     ]
    }
   ],
   "source": [
    "my_list = [\"apple\", \"banana\", \"cherry\"]\n",
    "def print_list(lst):\n",
    "    for i,v in enumerate(lst):\n",
    "        print(f\"Item {i}: {v}\")\n",
    "\n",
    "print_list(my_list)"
   ]
  },
  {
   "cell_type": "code",
   "execution_count": 2,
   "id": "15a39dce",
   "metadata": {},
   "outputs": [
    {
     "name": "stdout",
     "output_type": "stream",
     "text": [
      "Item 1: apple\n",
      "Item 2: banana\n",
      "Item 3: cherry\n"
     ]
    }
   ],
   "source": [
    "def print_list(lst):\n",
    "    for i,v in enumerate(lst,start=1):\n",
    "        print(f\"Item {i}: {v}\")\n",
    "\n",
    "print_list(my_list)"
   ]
  },
  {
   "cell_type": "markdown",
   "id": "78965a5d",
   "metadata": {},
   "source": [
    "# Solution 2 :  not using enumerate"
   ]
  },
  {
   "cell_type": "code",
   "execution_count": 3,
   "id": "bd2cd4ca",
   "metadata": {},
   "outputs": [
    {
     "name": "stdout",
     "output_type": "stream",
     "text": [
      "Item 0: apple\n",
      "Item 1: banana\n",
      "Item 2: cherry\n"
     ]
    }
   ],
   "source": [
    "for i in range(len(my_list)):\n",
    "    value = my_list[i]\n",
    "    print(f\"Item {i}: {value}\") \n",
    "    "
   ]
  },
  {
   "cell_type": "code",
   "execution_count": 4,
   "id": "ea9a3b02",
   "metadata": {},
   "outputs": [
    {
     "name": "stdout",
     "output_type": "stream",
     "text": [
      "Item 1: apple\n",
      "Item 2: banana\n",
      "Item 3: cherry\n"
     ]
    }
   ],
   "source": [
    "for i in range(len(my_list)):\n",
    "    value = my_list[i]\n",
    "    print(f\"Item {i+1}: {value}\") "
   ]
  }
 ],
 "metadata": {
  "kernelspec": {
   "display_name": "Python 3",
   "language": "python",
   "name": "python3"
  },
  "language_info": {
   "codemirror_mode": {
    "name": "ipython",
    "version": 3
   },
   "file_extension": ".py",
   "mimetype": "text/x-python",
   "name": "python",
   "nbconvert_exporter": "python",
   "pygments_lexer": "ipython3",
   "version": "3.13.3"
  }
 },
 "nbformat": 4,
 "nbformat_minor": 5
}
