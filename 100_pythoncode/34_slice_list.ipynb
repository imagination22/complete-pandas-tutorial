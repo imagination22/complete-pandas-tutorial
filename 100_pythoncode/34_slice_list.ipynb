{
 "cells": [
  {
   "cell_type": "markdown",
   "id": "33000c27",
   "metadata": {},
   "source": [
    "list[start:end:step]\n",
    "where:\n",
    "\n",
    "start is the beginning index (default is 0).\n",
    "\n",
    "end is the stopping index (exclusive).\n",
    "\n",
    "step determines the increment (default is 1)."
   ]
  },
  {
   "cell_type": "markdown",
   "id": "ac01e4c4",
   "metadata": {},
   "source": [
    "# List Slicing in Python\n",
    "\n",
    "## 1. Question\n",
    "Write a Python program that demonstrates slicing a list based on different scenarios.\n",
    "\n",
    "## 2. Case\n",
    "Given a list of words, extract specific portions using slicing techniques like:\n",
    "- First `n` elements\n",
    "- Elements within a specified index range\n",
    "- Every `k`th element\n",
    "- Reversing the list\n",
    "\n",
    "## 3. Example\n",
    "Consider the list:\n"
   ]
  },
  {
   "cell_type": "markdown",
   "id": "f90a9bc1",
   "metadata": {},
   "source": [
    "words = [\"apple\", \"banana\", \"cherry\", \"date\", \"elderberry\", \"fig\", \"grape\"]"
   ]
  },
  {
   "cell_type": "markdown",
   "id": "5dab9f69",
   "metadata": {},
   "source": [
    "Expected outputs:\n",
    "- First 3 elements: `[\"apple\", \"banana\", \"cherry\"]`\n",
    "- Elements from index 2 to 5: `[\"cherry\", \"date\", \"elderberry\", \"fig\"]`\n",
    "- Every second element: `[\"apple\", \"cherry\", \"elderberry\", \"grape\"]`\n",
    "- Reversed list: `[\"grape\", \"fig\", \"elderberry\", \"date\", \"cherry\", \"banana\", \"apple\"]`\n",
    "\n",
    "\n",
    "\n",
    "## 5. Constraints\n",
    "0 <= start < len(words)\n",
    "\n",
    "0 < end <= len(words)\n",
    "\n",
    "start < end to ensure valid range\n",
    "\n",
    "## 4. User Input\n",
    "```python\n",
    "# Accept input for slicing range\n",
    "start = int(input(\"Enter start index: \"))\n",
    "end = int(input(\"Enter end index: \"))\n",
    "\n",
    "# Slice the list\n",
    "sliced_list = words[start:end]\n",
    "print(\"Sliced List:\", sliced_list)"
   ]
  },
  {
   "cell_type": "markdown",
   "id": "e947025e",
   "metadata": {},
   "source": [
    "# Demonstrating List Slicing in Python\n",
    "\n",
    "## Introduction\n",
    "List slicing in Python allows you to extract specific portions of a list using a convenient syntax. You can slice lists using the `start:stop:step` format.\n",
    "\n",
    "## Python Code\n",
    "```python\n",
    "# Define a list\n",
    "my_list = [\"apple\", \"banana\", \"cherry\", \"date\", \"elderberry\", \"fig\", \"grape\"]\n",
    "\n",
    "# Slicing examples\n",
    "print(\"Original List:\", my_list)\n",
    "\n",
    "# Extract first three elements\n",
    "print(\"First three elements:\", my_list[:3])\n",
    "\n",
    "# Extract elements from index 2 to 5\n",
    "print(\"Elements from index 2 to 5:\", my_list[2:6])\n",
    "\n",
    "# Extract every second element\n",
    "print(\"Every second element:\", my_list[::2])\n",
    "\n",
    "# Reverse the list using slicing\n",
    "print(\"Reversed List:\", my_list[::-1])\n"
   ]
  },
  {
   "cell_type": "markdown",
   "id": "150e8b20",
   "metadata": {},
   "source": []
  },
  {
   "cell_type": "code",
   "execution_count": null,
   "id": "897de49b",
   "metadata": {
    "vscode": {
     "languageId": "plaintext"
    }
   },
   "outputs": [],
   "source": []
  }
 ],
 "metadata": {
  "language_info": {
   "name": "python"
  }
 },
 "nbformat": 4,
 "nbformat_minor": 5
}
