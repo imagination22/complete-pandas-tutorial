{
 "cells": [
  {
   "cell_type": "markdown",
   "id": "237c1405",
   "metadata": {},
   "source": [
    "# Factors of a Number in Python\n",
    "\n",
    "## Problem Statement\n",
    "Write a Python program to find all the **factors** of a given number.\n",
    "\n",
    "## Example\n",
    "\n",
    "### **Input**\n",
    "Enter a number: 12\n",
    "\n",
    "### **Output**\n",
    "Factors of 12 are: 1, 2, 3, 4, 6, 12\n",
    "\n",
    "## **Constraints**\n",
    "- The input must be a positive integer.\n",
    "- The program should correctly list all factors.\n",
    "\n",
    "\n",
    "## **Code**\n",
    "\n",
    "\n",
    "# Input from the user\n",
    "num = int(input(\"Enter a number: \"))\n",
    "\n",
    "# Display result\n",
    "print(\"Factors of\", num, \"are:\", ', '.join(map(str, find_factors(num))))\n"
   ]
  },
  {
   "cell_type": "code",
   "execution_count": 9,
   "id": "6a2566ce",
   "metadata": {},
   "outputs": [
    {
     "name": "stdout",
     "output_type": "stream",
     "text": [
      "Factors of 12 are: 1, 2, 3, 4, 6\n"
     ]
    }
   ],
   "source": [
    "num = 12\n",
    "def factors(num):\n",
    "    res = []\n",
    "    for i in range (1, int(num/2) + 1):\n",
    "        if num%i == 0 :\n",
    "            j = int(i)\n",
    "            res.append(j)\n",
    "        else :\n",
    "            continue\n",
    "    return res\n",
    "\n",
    "print(\"Factors of\", num, \"are:\", ', '.join(map(str, factors(num))))"
   ]
  },
  {
   "cell_type": "markdown",
   "id": "66f2c4a0",
   "metadata": {},
   "source": [
    "common error : \n",
    "1. not using int in for loop , it was treating num/2 as float\n",
    "2. staring for loop from 0 , giving divide by 0 error\n"
   ]
  }
 ],
 "metadata": {
  "kernelspec": {
   "display_name": "Python 3",
   "language": "python",
   "name": "python3"
  },
  "language_info": {
   "codemirror_mode": {
    "name": "ipython",
    "version": 3
   },
   "file_extension": ".py",
   "mimetype": "text/x-python",
   "name": "python",
   "nbconvert_exporter": "python",
   "pygments_lexer": "ipython3",
   "version": "3.13.3"
  }
 },
 "nbformat": 4,
 "nbformat_minor": 5
}
