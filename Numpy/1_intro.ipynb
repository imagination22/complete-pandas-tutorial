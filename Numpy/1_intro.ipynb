{
 "cells": [
  {
   "cell_type": "code",
   "execution_count": 17,
   "id": "6b5af53c",
   "metadata": {},
   "outputs": [
    {
     "name": "stdout",
     "output_type": "stream",
     "text": [
      "Requirement already satisfied: numpy in c:\\users\\lenovo\\appdata\\local\\programs\\python\\python313\\lib\\site-packages (2.2.6)\n"
     ]
    },
    {
     "name": "stderr",
     "output_type": "stream",
     "text": [
      "\n",
      "[notice] A new release of pip is available: 25.0.1 -> 25.1.1\n",
      "[notice] To update, run: python.exe -m pip install --upgrade pip\n"
     ]
    }
   ],
   "source": [
    "! pip install numpy"
   ]
  },
  {
   "cell_type": "code",
   "execution_count": 18,
   "id": "04d1f202",
   "metadata": {},
   "outputs": [],
   "source": [
    "import numpy as np"
   ]
  },
  {
   "cell_type": "markdown",
   "id": "31ecc68b",
   "metadata": {},
   "source": [
    "# 🧮 NumPy - Quick Revision\n",
    "\n",
    "## ✅ What is NumPy?\n",
    "\n",
    "- **NumPy** is a **Python library** used for **working with arrays**.\n",
    "- It supports:\n",
    "  - **Linear Algebra**\n",
    "  - **Fourier Transform**\n",
    "  - **Matrix Operations**\n",
    "- **Created by:** Travis Oliphant in **2005**\n",
    "- **Open Source** and free to use.\n",
    "- **Full Form:** **Numerical Python**\n",
    "\n",
    "---\n",
    "\n",
    "## 🚀 Why Use NumPy?\n",
    "\n",
    "### 📌 Speed Advantage Over Lists\n",
    "- NumPy arrays are stored in **one continuous block of memory**.\n",
    "- Enables **faster processing** due to:\n",
    "  - **Locality of Reference** (better CPU cache utilization)\n",
    "  - **Vectorized operations** (no need for Python loops)\n",
    "\n",
    "> 🆚 Traditional Python lists are slower because each element can be stored in different memory locations.\n",
    "\n",
    "---\n",
    "\n",
    "## ⚙️ Language Used\n",
    "\n",
    "- Written **partially in Python**\n",
    "- **Core parts (performance-critical)** written in **C and C++**\n",
    "- Combines Python's ease of use with C/C++ speed\n",
    "\n",
    "---\n",
    "\n",
    "## 🔢 ndarray - NumPy Array Object\n",
    "\n",
    "- NumPy provides a high-performance multidimensional array object: `ndarray`\n",
    "- Offers **many built-in functions** to operate on arrays efficiently\n",
    "\n",
    "---\n",
    "\n",
    "## 📊 Why is NumPy Essential in Data Science?\n",
    "\n",
    "- Arrays are fundamental in:\n",
    "  - **Data Analysis**\n",
    "  - **Machine Learning**\n",
    "  - **Scientific Computing**\n",
    "- NumPy's efficiency makes it ideal where **performance and memory** are crucial\n",
    "\n",
    "---\n",
    "\n",
    "## 💡 Summary\n",
    "\n",
    "| Feature                | Details                                |\n",
    "|------------------------|----------------------------------------|\n",
    "| Library Name           | NumPy                                  |\n",
    "| Purpose                | Fast array and matrix computation      |\n",
    "| Written In             | Python (interface), C/C++ (core)       |\n",
    "| Array Type             | `ndarray`                              |\n",
    "| Performance            | ~50x faster than Python lists          |\n",
    "| Applications           | Data science, ML, scientific computing |\n",
    "\n",
    "---\n"
   ]
  },
  {
   "cell_type": "code",
   "execution_count": 19,
   "id": "2b6a4d52",
   "metadata": {},
   "outputs": [
    {
     "name": "stdout",
     "output_type": "stream",
     "text": [
      "[1 2 3 4 5]\n",
      "<class 'numpy.ndarray'>\n",
      "2.2.6\n",
      "[1 2 3 4 5]\n",
      "<class 'numpy.ndarray'>\n",
      "[1 2 3 4 5]\n",
      "<class 'numpy.ndarray'>\n",
      "[1 2 3 4 5]\n",
      "<class 'numpy.ndarray'>\n",
      "{1, 2, 3, 4, 5}\n",
      "<class 'numpy.ndarray'>\n"
     ]
    }
   ],
   "source": [
    "import numpy as np\n",
    "\n",
    "arr = np.array([1, 2, 3, 4, 5])\n",
    "print(arr)\n",
    "print(type(arr))\n",
    "print(np.__version__)\n",
    "arr_1 = np.array((1, 2, 3, 4, 5))\n",
    "arr_2 = np.array([1, 2, 3, 4, 5])\n",
    "arr_3 = np.array({1, 2, 3, 4, 5})\n",
    "print(arr)\n",
    "print(type(arr))\n",
    "\n",
    "print(arr_1)\n",
    "print(type(arr_1))\n",
    "\n",
    "print(arr_2)\n",
    "print(type(arr_2))\n",
    "\n",
    "print(arr_3)\n",
    "print(type(arr))\n"
   ]
  },
  {
   "cell_type": "markdown",
   "id": "2964c69f",
   "metadata": {},
   "source": [
    "# 🧱 Creating a NumPy `ndarray` Object\n",
    "\n",
    "## 📌 What is an `ndarray`?\n",
    "\n",
    "- In **NumPy**, the core data structure is called an **`ndarray` (n-dimensional array)**.\n",
    "- It allows **fast, efficient operations** on large collections of numerical data.\n",
    "\n",
    "---\n",
    "\n",
    "## 🛠️ How to Create an `ndarray`?\n",
    "\n",
    "### ✅ Using `array()` function:\n",
    "\n",
    "You can pass:\n",
    "\n",
    "A list\n",
    "\n",
    "A tuple\n",
    "\n",
    "Any array-like object\n",
    "\n",
    "Even though a set uses curly braces {}, it still gets converted to an ndarray.\n",
    "\n",
    "Important: Sets are unordered, so the order of elements in the resulting array may not match the input.\n",
    "\n",
    "\n"
   ]
  },
  {
   "cell_type": "markdown",
   "id": "76a0d74e",
   "metadata": {},
   "source": [
    "# 🧮 Dimensions in NumPy Arrays\n",
    "\n",
    "## 📌 What is a Dimension?\n",
    "\n",
    "A **dimension** in NumPy refers to the **level of depth** in an array, or how many levels of nesting exist.\n",
    "\n",
    "Think of dimensions as:\n",
    "- 1D → Single row (flat)\n",
    "- 2D → Rows and columns (matrix)\n",
    "- 3D → Multiple 2D arrays (stacked)\n",
    "\n",
    "---\n",
    "\n",
    "## 🔢 NumPy Array Dimensions Examples\n",
    "\n",
    "### ✅ 0-D Arrays (Scalar)\n",
    "```python\n",
    "import numpy as np\n",
    "a = np.array(42)\n",
    "print(a.ndim)  # Output: 0\n"
   ]
  },
  {
   "cell_type": "markdown",
   "id": "3e52deb7",
   "metadata": {},
   "source": [
    "| Dimension | Description              | Example Shape      | Example Value                               |\n",
    "|-----------|--------------------------|---------------------|----------------------------------------------|\n",
    "| 0-D       | Scalar (single value)     | `()`               | `np.array(42)`                               |\n",
    "| 1-D       | Vector (1 axis)           | `(3,)`             | `np.array([1, 2, 3])`                         |\n",
    "| 2-D       | Matrix (rows & columns)   | `(2, 3)`           | `np.array([[1, 2, 3], [4, 5, 6]])`            |\n",
    "| 3-D       | Tensor (stack of matrices)| `(2, 2, 3)`        | `np.array([[[1,2,3],[4,5,6]], [[7,8,9],[10,11,12]]])` |\n",
    "| n-D       | Higher-dim arrays         | `(dim1, dim2, ...)`| `np.array(..., ndmin=n)`                     |\n"
   ]
  }
 ],
 "metadata": {
  "kernelspec": {
   "display_name": "Python 3",
   "language": "python",
   "name": "python3"
  },
  "language_info": {
   "codemirror_mode": {
    "name": "ipython",
    "version": 3
   },
   "file_extension": ".py",
   "mimetype": "text/x-python",
   "name": "python",
   "nbconvert_exporter": "python",
   "pygments_lexer": "ipython3",
   "version": "3.13.3"
  }
 },
 "nbformat": 4,
 "nbformat_minor": 5
}
