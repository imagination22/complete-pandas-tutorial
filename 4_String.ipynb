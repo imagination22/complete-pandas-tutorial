{
 "cells": [
  {
   "cell_type": "markdown",
   "id": "fee5d607",
   "metadata": {},
   "source": [
    "##Reverse String \n",
    "hello -> olleh\n",
    "1. slicing\n",
    "2. loop\n",
    "3. method"
   ]
  },
  {
   "cell_type": "code",
   "execution_count": 10,
   "id": "1b39fba3",
   "metadata": {},
   "outputs": [
    {
     "name": "stdout",
     "output_type": "stream",
     "text": [
      "hello World\n"
     ]
    }
   ],
   "source": [
    "s=\"hello World\"\n",
    "a = s[::-1]\n",
    "print(s)"
   ]
  },
  {
   "cell_type": "code",
   "execution_count": 11,
   "id": "ba75e548",
   "metadata": {},
   "outputs": [
    {
     "name": "stdout",
     "output_type": "stream",
     "text": [
      "dlroW olleh\n"
     ]
    }
   ],
   "source": [
    "def reverse(s):\n",
    "    reverse_str =''\n",
    "    for i in s:\n",
    "        reverse_str = i + reverse_str\n",
    "    return reverse_str\n",
    "print(reverse(s))"
   ]
  },
  {
   "cell_type": "code",
   "execution_count": 12,
   "id": "2b1f8fb9",
   "metadata": {},
   "outputs": [
    {
     "name": "stdout",
     "output_type": "stream",
     "text": [
      "dlroW olleh\n"
     ]
    }
   ],
   "source": [
    "print(''.join(reversed(s)))"
   ]
  }
 ],
 "metadata": {
  "kernelspec": {
   "display_name": "Python 3",
   "language": "python",
   "name": "python3"
  },
  "language_info": {
   "codemirror_mode": {
    "name": "ipython",
    "version": 3
   },
   "file_extension": ".py",
   "mimetype": "text/x-python",
   "name": "python",
   "nbconvert_exporter": "python",
   "pygments_lexer": "ipython3",
   "version": "3.13.3"
  }
 },
 "nbformat": 4,
 "nbformat_minor": 5
}
