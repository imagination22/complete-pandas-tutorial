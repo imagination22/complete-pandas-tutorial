{
 "cells": [
  {
   "cell_type": "code",
   "execution_count": 8,
   "id": "6d38f9ca",
   "metadata": {},
   "outputs": [
    {
     "name": "stdout",
     "output_type": "stream",
     "text": [
      "0\n",
      "1\n"
     ]
    }
   ],
   "source": [
    "for i  in range(0,2):\n",
    "    print(i)"
   ]
  },
  {
   "cell_type": "markdown",
   "id": "7f28e6bf",
   "metadata": {},
   "source": [
    "## Find Missing Number in Array\n",
    "\n",
    "### Problem Statement\n",
    "Given an array `nums` containing `n` distinct numbers in the range `[0, n]`, return the only number in the range that is missing from the array.\n",
    "\n",
    "### Examples\n",
    "\n",
    "#### Example 1\n",
    "**Input:** `nums = [3,0,1]`  \n",
    "**Output:** `2`  \n",
    "**Explanation:**  \n",
    "`n = 3` since there are 3 numbers, so all numbers are in the range `[0,3]`. `2` is the missing number in the range since it does not appear in `nums`.\n",
    "\n",
    "#### Example 2\n",
    "**Input:** `nums = [0,1]`  \n",
    "**Output:** `2`  \n",
    "**Explanation:**  \n",
    "`n = 2` since there are 2 numbers, so all numbers are in the range `[0,2]`. `2` is the missing number in the range since it does not appear in `nums`.\n",
    "\n",
    "#### Example 3\n",
    "**Input:** `nums = [9,6,4,2,3,5,7,0,1]`  \n",
    "**Output:** `8`  \n",
    "**Explanation:**  \n",
    "`n = 9` since there are 9 numbers, so all numbers are in the range `[0,9]`. `8` is the missing number in the range since it does not appear in `nums`.\n",
    "\n",
    "### Constraints\n",
    "- `n == nums.length`\n",
    "- `1 <= n <= 10^4`\n",
    "- `0 <= nums[i] <= n`\n",
    "- All the numbers of `nums` are unique.\n"
   ]
  },
  {
   "cell_type": "code",
   "execution_count": 9,
   "id": "3643cd60",
   "metadata": {},
   "outputs": [
    {
     "name": "stdout",
     "output_type": "stream",
     "text": [
      "2\n",
      "2\n",
      "8\n"
     ]
    }
   ],
   "source": [
    "from typing import List\n",
    "class Solution:\n",
    "    def missingNumber(self, nums: List[int]) -> int:\n",
    "        nums.sort()\n",
    "        size = len(nums) + 1\n",
    "        counter =0\n",
    "        initial = 0\n",
    "        for i in range(0,size):\n",
    "            initial += counter\n",
    "            if i == size-1:\n",
    "                return initial\n",
    "            elif initial == nums[i]:\n",
    "                counter = 1\n",
    "            else :\n",
    "                return initial\n",
    "\n",
    "sol =Solution()\n",
    "print(sol.missingNumber([0,1]))\n",
    "print(sol.missingNumber([3,0,1]))\n",
    "print(sol.missingNumber([9,6,4,2,3,5,7,0,1]))\n",
    "#expeted output 2\n",
    "        "
   ]
  }
 ],
 "metadata": {
  "kernelspec": {
   "display_name": "Python 3",
   "language": "python",
   "name": "python3"
  },
  "language_info": {
   "codemirror_mode": {
    "name": "ipython",
    "version": 3
   },
   "file_extension": ".py",
   "mimetype": "text/x-python",
   "name": "python",
   "nbconvert_exporter": "python",
   "pygments_lexer": "ipython3",
   "version": "3.13.3"
  }
 },
 "nbformat": 4,
 "nbformat_minor": 5
}
