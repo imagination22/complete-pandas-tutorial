{
 "cells": [
  {
   "cell_type": "markdown",
   "id": "2e5340f9",
   "metadata": {},
   "source": [
    "## Two Sum Problem\n",
    "\n",
    "### Problem Statement\n",
    "Given an array of integers `nums` and an integer `target`, return the indices of the two numbers such that they add up to `target`.\n",
    "\n",
    "- You may assume that each input has exactly **one solution**.\n",
    "- You may **not use the same element twice**.\n",
    "- You can return the answer in **any order**.\n",
    "\n",
    "### Examples\n",
    "\n",
    "#### Example 1\n",
    "**Input:** `nums = [2,7,11,15]`, `target = 9`  \n",
    "**Output:** `[0,1]`  \n",
    "**Explanation:** Because `nums[0] + nums[1] == 9`, we return `[0, 1]`.\n",
    "\n",
    "#### Example 2\n",
    "**Input:** `nums = [3,2,4]`, `target = 6`  \n",
    "**Output:** `[1,2]`\n",
    "\n",
    "#### Example 3\n",
    "**Input:** `nums = [3,3]`, `target = 6`  \n",
    "**Output:** `[0,1]`\n"
   ]
  },
  {
   "cell_type": "code",
   "execution_count": 2,
   "id": "91970fbf",
   "metadata": {},
   "outputs": [
    {
     "name": "stdout",
     "output_type": "stream",
     "text": [
      "[0, 1]\n",
      "[1, 2]\n"
     ]
    }
   ],
   "source": [
    "from typing import List\n",
    "# https://leetcode.com/problems/two-sum/\n",
    "class Solution:\n",
    "    def twoSum(self, nums: List[int], target: int) -> List[int]:\n",
    "        size = len(nums)\n",
    "        for i in range(0,size):\n",
    "            for j in range(i+1,size):\n",
    "                #print(i,j,size,target)\n",
    "                if target == nums[i]+nums[j] :\n",
    "                    #print(nums[i],nums[j],target)\n",
    "                    #print(i,j)\n",
    "                    return [i,j]\n",
    "                else :\n",
    "                    continue\n",
    "\n",
    "sol = Solution()\n",
    "print(sol.twoSum([2,7,11,15],9))\n",
    "print(sol.twoSum([3,2,4],6))\n",
    "                \n",
    "            \n"
   ]
  }
 ],
 "metadata": {
  "kernelspec": {
   "display_name": "Python 3",
   "language": "python",
   "name": "python3"
  },
  "language_info": {
   "codemirror_mode": {
    "name": "ipython",
    "version": 3
   },
   "file_extension": ".py",
   "mimetype": "text/x-python",
   "name": "python",
   "nbconvert_exporter": "python",
   "pygments_lexer": "ipython3",
   "version": "3.13.3"
  }
 },
 "nbformat": 4,
 "nbformat_minor": 5
}
