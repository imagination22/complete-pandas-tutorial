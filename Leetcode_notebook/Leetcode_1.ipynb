{
 "cells": [
  {
   "cell_type": "markdown",
   "id": "5fa68bb9",
   "metadata": {},
   "source": [
    "## Check for Duplicate Elements in Array\n",
    "\n",
    "### Problem Statement\n",
    "Given an integer array `nums`, return `true` if any value appears at least twice in the array. Otherwise, return `false`.\n",
    "\n",
    "### Examples\n",
    "\n",
    "#### Example 1\n",
    "**Input:** `nums = [1,2,3,1]`  \n",
    "**Output:** `true`  \n",
    "**Explanation:** The element `1` occurs at indices `0` and `3`.\n",
    "\n",
    "#### Example 2\n",
    "**Input:** `nums = [1,2,3,4]`  \n",
    "**Output:** `false`  \n",
    "**Explanation:** All elements are distinct.\n",
    "\n",
    "#### Example 3\n",
    "**Input:** `nums = [1,1,1,3,3,4,3,2,4,2]`  \n",
    "**Output:** `true`\n",
    "\n",
    "### Constraints\n",
    "- `1 <= nums.length <= 10^5`\n",
    "- `-10^9 <= nums[i] <= 10^9`\n"
   ]
  },
  {
   "cell_type": "code",
   "execution_count": null,
   "id": "6a7dd669",
   "metadata": {},
   "outputs": [
    {
     "name": "stdout",
     "output_type": "stream",
     "text": [
      "False\n",
      "True\n"
     ]
    }
   ],
   "source": [
    "from typing import List\n",
    "class Solution:\n",
    "    def containsDuplicate(self, nums: List[int]) -> bool:\n",
    "        input_list = nums\n",
    "        set_i = set(input_list)\n",
    "        if len(set_i) == len(input_list):\n",
    "            return False\n",
    "        else :\n",
    "            return True\n",
    "sol = Solution()\n",
    "print(sol.containsDuplicate([1, 2, 3, 4]))  # Output: False\n",
    "print(sol.containsDuplicate([1, 2, 3, 1]))  # Output: True\n",
    "        "
   ]
  },
  {
   "cell_type": "code",
   "execution_count": 2,
   "id": "10e8b51b",
   "metadata": {},
   "outputs": [
    {
     "name": "stdout",
     "output_type": "stream",
     "text": [
      "False\n",
      "True\n"
     ]
    }
   ],
   "source": [
    "from typing import List\n",
    "\n",
    "def contains_duplicate(nums: List[int]) -> bool:\n",
    "    return len(nums) != len(set(nums))\n",
    "print(contains_duplicate([1, 2, 3, 4]))  # Output: False\n",
    "print(contains_duplicate([1, 2, 3, 1]))  # Output: True"
   ]
  },
  {
   "cell_type": "markdown",
   "id": "816effa6",
   "metadata": {},
   "source": [
    "here we are not using variable"
   ]
  },
  {
   "cell_type": "markdown",
   "id": "817378a1",
   "metadata": {},
   "source": [
    "this is a python approach , using set to find duplicates .\n",
    "in C or jave e will use 2 loops to find duplicates ."
   ]
  },
  {
   "cell_type": "code",
   "execution_count": 3,
   "id": "3d45631b",
   "metadata": {},
   "outputs": [
    {
     "name": "stdout",
     "output_type": "stream",
     "text": [
      "False\n",
      "True\n"
     ]
    }
   ],
   "source": [
    "def contain_duplicates(nums: List[int]) -> bool:\n",
    "    list_1 = nums\n",
    "    for i in range(len(nums)):\n",
    "        if list_1.count(list_1[i]) > 1 :\n",
    "            return True\n",
    "        else:\n",
    "            continue\n",
    "    return False\n",
    "print(contain_duplicates([1, 2, 3, 4]))  # Output: False\n",
    "print(contain_duplicates([1, 2, 3, 4, 2]))  # Output: True\n"
   ]
  },
  {
   "cell_type": "code",
   "execution_count": 4,
   "id": "3334fd45",
   "metadata": {},
   "outputs": [
    {
     "name": "stdout",
     "output_type": "stream",
     "text": [
      "False\n",
      "True\n"
     ]
    }
   ],
   "source": [
    "def contains_duplicate(nums: List[int]) -> bool:\n",
    "    seen = list()\n",
    "    copy = nums.copy()\n",
    "    for i in copy:\n",
    "        if i not in  seen:\n",
    "            seen.append(i)\n",
    "        elif i in seen:\n",
    "            return True\n",
    "    return False\n",
    "print(contains_duplicate([1, 2, 3, 4]))  # Output: False\n",
    "print(contains_duplicate([1, 2, 3, 4, 2]))  # Output: True"
   ]
  },
  {
   "cell_type": "markdown",
   "id": "77593ab8",
   "metadata": {},
   "source": []
  }
 ],
 "metadata": {
  "kernelspec": {
   "display_name": "Python 3",
   "language": "python",
   "name": "python3"
  },
  "language_info": {
   "codemirror_mode": {
    "name": "ipython",
    "version": 3
   },
   "file_extension": ".py",
   "mimetype": "text/x-python",
   "name": "python",
   "nbconvert_exporter": "python",
   "pygments_lexer": "ipython3",
   "version": "3.13.3"
  }
 },
 "nbformat": 4,
 "nbformat_minor": 5
}
