{
 "cells": [
  {
   "cell_type": "markdown",
   "id": "bbf8a735",
   "metadata": {},
   "source": [
    "# Spiral Order Matrix Traversal\n",
    "\n",
    "## Problem Statement\n",
    "Given an `m x n` matrix, return all elements of the matrix in **spiral order**.\n",
    "\n",
    "## Examples\n",
    "\n",
    "### Example 1:\n",
    "#### Input:\n",
    "matrix = [ [1, 2, 3], [4, 5, 6], [7, 8, 9] ]\n",
    "#### Output:\n",
    "[1, 2, 3, 6, 9, 8, 7, 4, 5]\n",
    "\n",
    "### Example 2:\n",
    "#### Input:\n",
    "matrix = [ [1, 2, 3, 4], [5, 6, 7, 8], [9, 10, 11, 12] ]\n",
    "#### Output:\n",
    "\n",
    "[1, 2, 3, 4, 8, 12, 11, 10, 9, 5, 6, 7]\n",
    "\n",
    "\n"
   ]
  },
  {
   "cell_type": "code",
   "execution_count": 2,
   "id": "764974d2",
   "metadata": {},
   "outputs": [
    {
     "name": "stdout",
     "output_type": "stream",
     "text": [
      "2 3\n",
      "0 0 1\n",
      "0 1 2\n",
      "0 2 3\n",
      "3\n",
      "1 1 6\n",
      "2\n",
      "[1, 2, 3, 4, 8, 12, 11, 10, 9, 5, 6, 7]\n"
     ]
    }
   ],
   "source": [
    "from typing import List\n",
    "class Solution:\n",
    "    def spiralOrder(self, matrix: List[List[int]]) -> List[int]:\n",
    "        res =[]\n",
    "        i_max = len(matrix) -1\n",
    "        j_max = len(matrix[0]) -1\n",
    "        i_min = 0 \n",
    "        j_min = 0\n",
    "        loop_count = (i_max+1) * (j_max+1)\n",
    "        count = 0\n",
    "        flag = 1\n",
    "        print (i_max , j_max)\n",
    "        while flag == 1 :\n",
    "            \n",
    "            for j in range(j_min , j_max):\n",
    "                i=i_min\n",
    "                print(i,j,matrix[i][j])\n",
    "                res.append(matrix[i][j])\n",
    "                j+=1\n",
    "                count+=1\n",
    "                if count == loop_count:\n",
    "                    flag = 0\n",
    "                    break\n",
    "            if flag == 0:\n",
    "                break\n",
    "            for i in range(i_min , i_max):\n",
    "                res.append(matrix[i][j])\n",
    "                i+=1\n",
    "                count+=1\n",
    "                if count == loop_count:\n",
    "                    flag = 0\n",
    "                    break\n",
    "            if flag == 0:\n",
    "                break\n",
    "            print(j)\n",
    "            \n",
    "            for j in range(j_max,j_min -1 , -1):\n",
    "\n",
    "                res.append(matrix[i][j])\n",
    "                #j-=1\n",
    "                count+=1\n",
    "                if count == loop_count:\n",
    "                    flag = 0\n",
    "                    break\n",
    "            if flag == 0:\n",
    "                break \n",
    "            for i in range(i_max-1 , i_min , -1):\n",
    "                res.append(matrix[i][j])\n",
    "                #i-=1\n",
    "                count+=1\n",
    "                if count == loop_count:\n",
    "                    flag = 0\n",
    "                    break\n",
    "            j_max = j_max-1\n",
    "            i_max = i_max-1\n",
    "            i_min = i_min +1\n",
    "            j_min = j_min +1 \n",
    "            if flag == 0:\n",
    "                break\n",
    "        return res\n",
    "            \n",
    "\n",
    "sol = Solution()\n",
    "print(sol.spiralOrder([[1,2,3,4],[5,6,7,8],[9,10,11,12]]))"
   ]
  },
  {
   "cell_type": "markdown",
   "id": "1a6805c7",
   "metadata": {},
   "source": []
  },
  {
   "cell_type": "markdown",
   "id": "c7a1f91b",
   "metadata": {},
   "source": []
  }
 ],
 "metadata": {
  "kernelspec": {
   "display_name": "Python 3",
   "language": "python",
   "name": "python3"
  },
  "language_info": {
   "codemirror_mode": {
    "name": "ipython",
    "version": 3
   },
   "file_extension": ".py",
   "mimetype": "text/x-python",
   "name": "python",
   "nbconvert_exporter": "python",
   "pygments_lexer": "ipython3",
   "version": "3.13.3"
  }
 },
 "nbformat": 4,
 "nbformat_minor": 5
}
