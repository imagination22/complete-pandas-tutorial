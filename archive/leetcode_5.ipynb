{
 "cells": [
  {
   "cell_type": "code",
   "execution_count": null,
   "id": "3cb1dda3",
   "metadata": {},
   "outputs": [],
   "source": []
  },
  {
   "cell_type": "code",
   "execution_count": 4,
   "id": "51d91bf7",
   "metadata": {},
   "outputs": [
    {
     "name": "stdout",
     "output_type": "stream",
     "text": [
      "[[1, 1], [3, 4]]\n",
      "-1 0\n"
     ]
    }
   ],
   "source": [
    "a= [[1,1],[3,4],[-1,0]]\n",
    "x , y =a.pop()\n",
    "print(a)\n",
    "print(x,y)"
   ]
  },
  {
   "cell_type": "markdown",
   "id": "4ecd8520",
   "metadata": {},
   "source": [
    "## 1266. Minimum Time Visiting All Points\n",
    "\n",
    "### Problem Statement\n",
    "On a 2D plane, there are `n` points with integer coordinates `points[i] = [x_i, y_i]`. Return the minimum time in seconds to visit all the points in the given order.\n",
    "\n",
    "### Movement Rules\n",
    "In **1 second**, you can:\n",
    "- Move **vertically** by one unit.\n",
    "- Move **horizontally** by one unit.\n",
    "- Move **diagonally** `sqrt(2)` units (i.e., move one unit vertically and one unit horizontally in 1 second).\n",
    "\n",
    "- You **must** visit the points in the given order.\n",
    "- You **can** pass through other points, but passing through them does not count as a visit.\n",
    "\n",
    "### Examples\n",
    "\n",
    "#### Example 1\n",
    "**Input:** `points = [[1,1],[3,4],[-1,0]]`  \n",
    "**Output:** `7`  \n",
    "**Explanation:**  \n",
    "One optimal path:  \n",
    "`[1,1] -> [2,2] -> [3,3] -> [3,4] -> [2,3] -> [1,2] -> [0,1] -> [-1,0]`  \n",
    "- Time from `[1,1]` to `[3,4]` = `3` seconds  \n",
    "- Time from `[3,4]` to `[-1,0]` = `4` seconds  \n",
    "- **Total time** = `7` seconds  \n",
    "\n",
    "#### Example 2\n",
    "**Input:** `points = [[3,2],[-2,2]]`  \n",
    "**Output:** `5`\n",
    "\n",
    "---\n",
    "\n",
    "This Markdown formatting makes the problem more structured and easier to read! 🚀 Let me know if you need modifications.\n"
   ]
  },
  {
   "cell_type": "code",
   "execution_count": 5,
   "id": "26ebc96f",
   "metadata": {},
   "outputs": [
    {
     "name": "stdout",
     "output_type": "stream",
     "text": [
      "7\n"
     ]
    }
   ],
   "source": [
    "from typing import List\n",
    "class Solution:\n",
    "    def minTimeToVisitAllPoints(self, points: List[List[int]]) -> int:\n",
    "        res = 0 \n",
    "        x1 , y1 = points.pop()\n",
    "        while points:\n",
    "            x2,y2 = points.pop()\n",
    "            res += max(abs(y1-y2),abs(x1-x2))\n",
    "            #print(res)\n",
    "            x1,y1 = x2,y2\n",
    "        return res\n",
    "sol = Solution()\n",
    "print(sol.minTimeToVisitAllPoints([[1,1],[3,4],[-1,0]]))\n",
    "        "
   ]
  }
 ],
 "metadata": {
  "kernelspec": {
   "display_name": "Python 3",
   "language": "python",
   "name": "python3"
  },
  "language_info": {
   "codemirror_mode": {
    "name": "ipython",
    "version": 3
   },
   "file_extension": ".py",
   "mimetype": "text/x-python",
   "name": "python",
   "nbconvert_exporter": "python",
   "pygments_lexer": "ipython3",
   "version": "3.13.3"
  }
 },
 "nbformat": 4,
 "nbformat_minor": 5
}
