{
 "cells": [
  {
   "cell_type": "code",
   "execution_count": 63,
   "id": "2e7e4ec3",
   "metadata": {},
   "outputs": [
    {
     "name": "stdout",
     "output_type": "stream",
     "text": [
      "hello World\n"
     ]
    }
   ],
   "source": [
    "print(\"hello World\")"
   ]
  },
  {
   "cell_type": "code",
   "execution_count": 64,
   "id": "c8e4de32",
   "metadata": {},
   "outputs": [
    {
     "name": "stdout",
     "output_type": "stream",
     "text": [
      "   0  1\n",
      "0  1  2\n",
      "1  3  4\n",
      "2  5  6\n",
      "3  7  8\n"
     ]
    }
   ],
   "source": [
    "import pandas as pd\n",
    "df = pd.DataFrame([[1, 2], [3, 4],[5, 6], [7, 8]])\n",
    "print(df)"
   ]
  },
  {
   "cell_type": "markdown",
   "id": "5cc26f42",
   "metadata": {},
   "source": [
    "# Understanding Pandas DataFrame Creation\n",
    "\n",
    "## Introduction\n",
    "The following Python script creates a **Pandas DataFrame** using a list of lists and prints it:\n",
    "\n",
    "Explanation\n",
    "- import pandas as pd: Imports the Pandas library, which is essential for data manipulation.\n",
    "- pd.DataFrame([[1, 2], [3, 4], [5, 6], [7, 8]]): Creates a DataFrame, a tabular data structure.\n",
    "- Each inner list represents a row in the DataFrame.\n",
    "- By default, Pandas assigns numeric index values (0-based) to rows and column names as numbers.\n",
    "\n",
    "#Logic Flow\n",
    "- Import the pandas library.\n",
    "- Create a DataFrame from a nested list (each sub-list becomes a row).\n",
    "- Print the formatted DataFrame to the console.\n",
    "\n",
    "Concepts Covered\n",
    "- DataFrame: A two-dimensional labeled data structure.\n",
    "- Indexing: Default row indexing starts at 0.\n",
    "- Column Naming: If omitted, column names are numbered starting from 0.\n",
    "- Printing a DataFrame: Outputs a clean, tabular structure.\n",
    "\n",
    "Explanation\n",
    "- import pandas as pd: Imports the Pandas library, which is essential for data manipulation.\n",
    "- pd.DataFrame([[1, 2], [3, 4], [5, 6], [7, 8]]): Creates a DataFrame, a tabular data structure.\n",
    "- Each inner list represents a row in the DataFrame.\n",
    "- By default, Pandas assigns numeric index values (0-based) to rows and column names as numbers.\n",
    "\n",
    "Behind-the-Scenes Operations\n",
    "- Memory Allocation: Pandas internally allocates memory to store the DataFrame efficiently.\n",
    "- Data Conversion: The list of lists is converted into a NumPy-style array for optimized performance.\n",
    "- Index & Column Assignment: If no column names are provided, Pandas auto-assigns numeric column labels.\n",
    "\n"
   ]
  },
  {
   "cell_type": "code",
   "execution_count": 65,
   "id": "f5ca6239",
   "metadata": {},
   "outputs": [
    {
     "name": "stdout",
     "output_type": "stream",
     "text": [
      "   a  b  c\n",
      "0  1  2  3\n",
      "1  3  4  5\n",
      "2  5  6  7\n",
      "3  7  8  9\n"
     ]
    }
   ],
   "source": [
    "import pandas as pd\n",
    "df = pd.DataFrame([[1, 2,3], [3, 4,5],[5, 6,7], [7, 8,9]],columns=['a','b','c'])\n",
    "print(df)"
   ]
  },
  {
   "cell_type": "markdown",
   "id": "6ce6cf16",
   "metadata": {},
   "source": [
    "# **Pandas DataFrame - Simple Explanation**\n",
    "\n",
    "## **What is a DataFrame?**\n",
    "- A **DataFrame** is like a **table**.\n",
    "- It can store data from different sources like **CSV files**, **JSON (dictionary)**, etc.\n",
    "\n",
    "## **Basic Structure**\n",
    "- We create a DataFrame using a variable (e.g., `df`). \n",
    "- `pd` is a **short form** of the `pandas` library.\n",
    "- `DataFrame` has **capital D and F** because it's a class in Pandas.\n",
    "\n",
    "## **Important Rules**\n",
    "- **Number of columns must match** the number of values in each row.\n",
    "- Example: If each sublist has **3 values**, the DataFrame should have **3 columns**.\n",
    "- If they don’t match, you'll get an **AssertionError**.\n",
    "- **Rows and columns can mismatch** in count, which is fine.eg there is 10 rows and 2  columns , but each row should have 2 values only  , since we have 2 column\n",
    "\n",
    "## **Key Takeaway**\n",
    "To use a DataFrame, follow these steps:\n",
    "1. **Import Pandas** (`import pandas as pd`).\n",
    "2. **Create DataFrame** using `pd.DataFrame(...)`.\n",
    "3. **Ensure correct column-to-value mapping**.\n",
    "\n"
   ]
  },
  {
   "cell_type": "code",
   "execution_count": 66,
   "id": "7f604c36",
   "metadata": {},
   "outputs": [
    {
     "data": {
      "text/html": [
       "<div>\n",
       "<style scoped>\n",
       "    .dataframe tbody tr th:only-of-type {\n",
       "        vertical-align: middle;\n",
       "    }\n",
       "\n",
       "    .dataframe tbody tr th {\n",
       "        vertical-align: top;\n",
       "    }\n",
       "\n",
       "    .dataframe thead th {\n",
       "        text-align: right;\n",
       "    }\n",
       "</style>\n",
       "<table border=\"1\" class=\"dataframe\">\n",
       "  <thead>\n",
       "    <tr style=\"text-align: right;\">\n",
       "      <th></th>\n",
       "      <th>a</th>\n",
       "      <th>b</th>\n",
       "      <th>c</th>\n",
       "    </tr>\n",
       "  </thead>\n",
       "  <tbody>\n",
       "    <tr>\n",
       "      <th>0</th>\n",
       "      <td>1</td>\n",
       "      <td>2</td>\n",
       "      <td>3</td>\n",
       "    </tr>\n",
       "    <tr>\n",
       "      <th>1</th>\n",
       "      <td>3</td>\n",
       "      <td>4</td>\n",
       "      <td>5</td>\n",
       "    </tr>\n",
       "    <tr>\n",
       "      <th>2</th>\n",
       "      <td>5</td>\n",
       "      <td>6</td>\n",
       "      <td>7</td>\n",
       "    </tr>\n",
       "    <tr>\n",
       "      <th>3</th>\n",
       "      <td>7</td>\n",
       "      <td>8</td>\n",
       "      <td>9</td>\n",
       "    </tr>\n",
       "  </tbody>\n",
       "</table>\n",
       "</div>"
      ],
      "text/plain": [
       "   a  b  c\n",
       "0  1  2  3\n",
       "1  3  4  5\n",
       "2  5  6  7\n",
       "3  7  8  9"
      ]
     },
     "execution_count": 66,
     "metadata": {},
     "output_type": "execute_result"
    }
   ],
   "source": [
    "df.head()"
   ]
  },
  {
   "cell_type": "markdown",
   "id": "67157c59",
   "metadata": {},
   "source": []
  },
  {
   "cell_type": "code",
   "execution_count": 67,
   "id": "e034b469",
   "metadata": {},
   "outputs": [
    {
     "data": {
      "text/html": [
       "<div>\n",
       "<style scoped>\n",
       "    .dataframe tbody tr th:only-of-type {\n",
       "        vertical-align: middle;\n",
       "    }\n",
       "\n",
       "    .dataframe tbody tr th {\n",
       "        vertical-align: top;\n",
       "    }\n",
       "\n",
       "    .dataframe thead th {\n",
       "        text-align: right;\n",
       "    }\n",
       "</style>\n",
       "<table border=\"1\" class=\"dataframe\">\n",
       "  <thead>\n",
       "    <tr style=\"text-align: right;\">\n",
       "      <th></th>\n",
       "      <th>a</th>\n",
       "      <th>b</th>\n",
       "      <th>c</th>\n",
       "    </tr>\n",
       "  </thead>\n",
       "  <tbody>\n",
       "    <tr>\n",
       "      <th>0</th>\n",
       "      <td>1</td>\n",
       "      <td>2</td>\n",
       "      <td>3</td>\n",
       "    </tr>\n",
       "    <tr>\n",
       "      <th>1</th>\n",
       "      <td>3</td>\n",
       "      <td>4</td>\n",
       "      <td>5</td>\n",
       "    </tr>\n",
       "  </tbody>\n",
       "</table>\n",
       "</div>"
      ],
      "text/plain": [
       "   a  b  c\n",
       "0  1  2  3\n",
       "1  3  4  5"
      ]
     },
     "execution_count": 67,
     "metadata": {},
     "output_type": "execute_result"
    }
   ],
   "source": [
    "df.head(2)"
   ]
  },
  {
   "cell_type": "code",
   "execution_count": 68,
   "id": "1398092a",
   "metadata": {},
   "outputs": [
    {
     "data": {
      "text/html": [
       "<div>\n",
       "<style scoped>\n",
       "    .dataframe tbody tr th:only-of-type {\n",
       "        vertical-align: middle;\n",
       "    }\n",
       "\n",
       "    .dataframe tbody tr th {\n",
       "        vertical-align: top;\n",
       "    }\n",
       "\n",
       "    .dataframe thead th {\n",
       "        text-align: right;\n",
       "    }\n",
       "</style>\n",
       "<table border=\"1\" class=\"dataframe\">\n",
       "  <thead>\n",
       "    <tr style=\"text-align: right;\">\n",
       "      <th></th>\n",
       "      <th>a</th>\n",
       "      <th>b</th>\n",
       "      <th>c</th>\n",
       "    </tr>\n",
       "  </thead>\n",
       "  <tbody>\n",
       "    <tr>\n",
       "      <th>2</th>\n",
       "      <td>5</td>\n",
       "      <td>6</td>\n",
       "      <td>7</td>\n",
       "    </tr>\n",
       "    <tr>\n",
       "      <th>3</th>\n",
       "      <td>7</td>\n",
       "      <td>8</td>\n",
       "      <td>9</td>\n",
       "    </tr>\n",
       "  </tbody>\n",
       "</table>\n",
       "</div>"
      ],
      "text/plain": [
       "   a  b  c\n",
       "2  5  6  7\n",
       "3  7  8  9"
      ]
     },
     "execution_count": 68,
     "metadata": {},
     "output_type": "execute_result"
    }
   ],
   "source": [
    "df.tail(2)"
   ]
  },
  {
   "cell_type": "code",
   "execution_count": 69,
   "id": "0471c6dd",
   "metadata": {},
   "outputs": [
    {
     "data": {
      "text/plain": [
       "RangeIndex(start=0, stop=4, step=1)"
      ]
     },
     "execution_count": 69,
     "metadata": {},
     "output_type": "execute_result"
    }
   ],
   "source": [
    "df.index"
   ]
  },
  {
   "cell_type": "code",
   "execution_count": 70,
   "id": "584d835a",
   "metadata": {},
   "outputs": [
    {
     "name": "stdout",
     "output_type": "stream",
     "text": [
      "   a  b  c\n",
      "x  1  2  3\n",
      "y  3  4  5\n",
      "z  5  6  7\n",
      "w  7  8  9\n"
     ]
    }
   ],
   "source": [
    "df = pd.DataFrame([[1, 2,3], [3, 4,5],[5, 6,7], [7, 8,9]],columns=['a','b','c'],index=['x','y','z','w'])\n",
    "print(df)"
   ]
  },
  {
   "cell_type": "code",
   "execution_count": 71,
   "id": "4946fcba",
   "metadata": {},
   "outputs": [
    {
     "data": {
      "text/plain": [
       "Index(['x', 'y', 'z', 'w'], dtype='object')"
      ]
     },
     "execution_count": 71,
     "metadata": {},
     "output_type": "execute_result"
    }
   ],
   "source": [
    "df.index"
   ]
  },
  {
   "cell_type": "code",
   "execution_count": 72,
   "id": "6d8ceb18",
   "metadata": {},
   "outputs": [
    {
     "data": {
      "text/plain": [
       "<bound method DataFrame.info of    a  b  c\n",
       "x  1  2  3\n",
       "y  3  4  5\n",
       "z  5  6  7\n",
       "w  7  8  9>"
      ]
     },
     "execution_count": 72,
     "metadata": {},
     "output_type": "execute_result"
    }
   ],
   "source": [
    "df.info"
   ]
  },
  {
   "cell_type": "code",
   "execution_count": 73,
   "id": "2c135227",
   "metadata": {},
   "outputs": [
    {
     "name": "stdout",
     "output_type": "stream",
     "text": [
      "<class 'pandas.core.frame.DataFrame'>\n",
      "Index: 4 entries, x to w\n",
      "Data columns (total 3 columns):\n",
      " #   Column  Non-Null Count  Dtype\n",
      "---  ------  --------------  -----\n",
      " 0   a       4 non-null      int64\n",
      " 1   b       4 non-null      int64\n",
      " 2   c       4 non-null      int64\n",
      "dtypes: int64(3)\n",
      "memory usage: 128.0+ bytes\n"
     ]
    }
   ],
   "source": [
    "df.info()"
   ]
  },
  {
   "cell_type": "code",
   "execution_count": 74,
   "id": "424dce77",
   "metadata": {},
   "outputs": [
    {
     "data": {
      "text/html": [
       "<div>\n",
       "<style scoped>\n",
       "    .dataframe tbody tr th:only-of-type {\n",
       "        vertical-align: middle;\n",
       "    }\n",
       "\n",
       "    .dataframe tbody tr th {\n",
       "        vertical-align: top;\n",
       "    }\n",
       "\n",
       "    .dataframe thead th {\n",
       "        text-align: right;\n",
       "    }\n",
       "</style>\n",
       "<table border=\"1\" class=\"dataframe\">\n",
       "  <thead>\n",
       "    <tr style=\"text-align: right;\">\n",
       "      <th></th>\n",
       "      <th>a</th>\n",
       "      <th>b</th>\n",
       "      <th>c</th>\n",
       "    </tr>\n",
       "  </thead>\n",
       "  <tbody>\n",
       "    <tr>\n",
       "      <th>count</th>\n",
       "      <td>4.000000</td>\n",
       "      <td>4.000000</td>\n",
       "      <td>4.000000</td>\n",
       "    </tr>\n",
       "    <tr>\n",
       "      <th>mean</th>\n",
       "      <td>4.000000</td>\n",
       "      <td>5.000000</td>\n",
       "      <td>6.000000</td>\n",
       "    </tr>\n",
       "    <tr>\n",
       "      <th>std</th>\n",
       "      <td>2.581989</td>\n",
       "      <td>2.581989</td>\n",
       "      <td>2.581989</td>\n",
       "    </tr>\n",
       "    <tr>\n",
       "      <th>min</th>\n",
       "      <td>1.000000</td>\n",
       "      <td>2.000000</td>\n",
       "      <td>3.000000</td>\n",
       "    </tr>\n",
       "    <tr>\n",
       "      <th>25%</th>\n",
       "      <td>2.500000</td>\n",
       "      <td>3.500000</td>\n",
       "      <td>4.500000</td>\n",
       "    </tr>\n",
       "    <tr>\n",
       "      <th>50%</th>\n",
       "      <td>4.000000</td>\n",
       "      <td>5.000000</td>\n",
       "      <td>6.000000</td>\n",
       "    </tr>\n",
       "    <tr>\n",
       "      <th>75%</th>\n",
       "      <td>5.500000</td>\n",
       "      <td>6.500000</td>\n",
       "      <td>7.500000</td>\n",
       "    </tr>\n",
       "    <tr>\n",
       "      <th>max</th>\n",
       "      <td>7.000000</td>\n",
       "      <td>8.000000</td>\n",
       "      <td>9.000000</td>\n",
       "    </tr>\n",
       "  </tbody>\n",
       "</table>\n",
       "</div>"
      ],
      "text/plain": [
       "              a         b         c\n",
       "count  4.000000  4.000000  4.000000\n",
       "mean   4.000000  5.000000  6.000000\n",
       "std    2.581989  2.581989  2.581989\n",
       "min    1.000000  2.000000  3.000000\n",
       "25%    2.500000  3.500000  4.500000\n",
       "50%    4.000000  5.000000  6.000000\n",
       "75%    5.500000  6.500000  7.500000\n",
       "max    7.000000  8.000000  9.000000"
      ]
     },
     "execution_count": 74,
     "metadata": {},
     "output_type": "execute_result"
    }
   ],
   "source": [
    "df.describe()"
   ]
  },
  {
   "cell_type": "code",
   "execution_count": 75,
   "id": "5959b39b",
   "metadata": {},
   "outputs": [
    {
     "data": {
      "text/plain": [
       "(4, 3)"
      ]
     },
     "execution_count": 75,
     "metadata": {},
     "output_type": "execute_result"
    }
   ],
   "source": [
    "df.shape"
   ]
  },
  {
   "cell_type": "markdown",
   "id": "dc7f4f7a",
   "metadata": {},
   "source": [
    "give shape of our data frame\n",
    "it has 4 rows and 3 column"
   ]
  },
  {
   "cell_type": "code",
   "execution_count": 76,
   "id": "38e444ad",
   "metadata": {},
   "outputs": [
    {
     "data": {
      "text/plain": [
       "a    4\n",
       "b    4\n",
       "c    4\n",
       "dtype: int64"
      ]
     },
     "execution_count": 76,
     "metadata": {},
     "output_type": "execute_result"
    }
   ],
   "source": [
    "df.nunique()"
   ]
  },
  {
   "cell_type": "markdown",
   "id": "d2f488e5",
   "metadata": {},
   "source": [
    "here a is column and number of uniquer value is 4"
   ]
  },
  {
   "cell_type": "code",
   "execution_count": 77,
   "id": "25959486",
   "metadata": {},
   "outputs": [
    {
     "data": {
      "text/plain": [
       "4"
      ]
     },
     "execution_count": 77,
     "metadata": {},
     "output_type": "execute_result"
    }
   ],
   "source": [
    "df['a'].nunique()"
   ]
  },
  {
   "cell_type": "markdown",
   "id": "b0237ea8",
   "metadata": {},
   "source": [
    "here we specifically mentioned to show unique value for column a"
   ]
  },
  {
   "cell_type": "code",
   "execution_count": 78,
   "id": "7e023b59",
   "metadata": {},
   "outputs": [
    {
     "data": {
      "text/plain": [
       "12"
      ]
     },
     "execution_count": 78,
     "metadata": {},
     "output_type": "execute_result"
    }
   ],
   "source": [
    "df.size"
   ]
  },
  {
   "cell_type": "markdown",
   "id": "e0ce9afd",
   "metadata": {},
   "source": [
    "# Understanding `df.size` in Pandas\n",
    "\n",
    "## 📌 Overview\n",
    "In **Pandas**, `df.size` returns the total number of elements in a **DataFrame** or **Series**. It is calculated as:\n",
    "- **DataFrame:** `size = number_of_rows × number_of_columns`\n",
    "- **Series:** `size = number_of_rows`\n",
    "\n",
    "## 🛠️ Behind the Scenes\n",
    "When you call `df.size`, the Pandas **DataFrame object** retrieves the `shape` attribute:\n",
    "```python\n",
    "df.shape[0] * df.shape[1]  # Equivalent computation for df.size"
   ]
  },
  {
   "cell_type": "markdown",
   "id": "af58fa02",
   "metadata": {},
   "source": []
  }
 ],
 "metadata": {
  "kernelspec": {
   "display_name": "Python 3",
   "language": "python",
   "name": "python3"
  },
  "language_info": {
   "codemirror_mode": {
    "name": "ipython",
    "version": 3
   },
   "file_extension": ".py",
   "mimetype": "text/x-python",
   "name": "python",
   "nbconvert_exporter": "python",
   "pygments_lexer": "ipython3",
   "version": "3.13.3"
  }
 },
 "nbformat": 4,
 "nbformat_minor": 5
}
