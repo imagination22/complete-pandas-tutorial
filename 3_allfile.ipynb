{
 "cells": [
  {
   "cell_type": "code",
   "execution_count": 3,
   "id": "a60db695",
   "metadata": {},
   "outputs": [
    {
     "data": {
      "text/plain": [
       "\"\\nbios = pd.read_csv('./data/bios.csv')\\nnoc_regions = pd.read_csv('./data/noc_regions.csv')\\nolympics_bios = pd.read_excel('./data/olympics-data.xlsx', sheet_name='bios')\\nolympics_results = pd.read_excel('./data/olympics-data.xlsx', sheet_name='results')\\nresults_csv = pd.read_csv('./data/results.csv')\\nresults_parquet = pd.read_parquet('./data/results.parquet')\\nresults_feather = pd.read_feather('./data/results.feather')\""
      ]
     },
     "execution_count": 3,
     "metadata": {},
     "output_type": "execute_result"
    }
   ],
   "source": [
    "import pandas as pd\n",
    "'''\n",
    "bios = pd.read_csv('./data/bios.csv')\n",
    "noc_regions = pd.read_csv('./data/noc_regions.csv')\n",
    "olympics_bios = pd.read_excel('./data/olympics-data.xlsx', sheet_name='bios')\n",
    "olympics_results = pd.read_excel('./data/olympics-data.xlsx', sheet_name='results')\n",
    "results_csv = pd.read_csv('./data/results.csv')\n",
    "results_parquet = pd.read_parquet('./data/results.parquet')\n",
    "results_feather = pd.read_feather('./data/results.feather')'''\n"
   ]
  },
  {
   "cell_type": "code",
   "execution_count": 4,
   "id": "9f6e98c6",
   "metadata": {},
   "outputs": [],
   "source": [
    "bios = pd.read_csv('./data/bios.csv')"
   ]
  },
  {
   "cell_type": "code",
   "execution_count": 5,
   "id": "cc41c2d4",
   "metadata": {},
   "outputs": [],
   "source": [
    "noc_regions = pd.read_csv('./data/noc_regions.csv')"
   ]
  },
  {
   "cell_type": "code",
   "execution_count": 6,
   "id": "d0e8a8d0",
   "metadata": {},
   "outputs": [],
   "source": [
    "olympics_bios = pd.read_excel('./data/olympics-data.xlsx', sheet_name='bios')"
   ]
  },
  {
   "cell_type": "code",
   "execution_count": 7,
   "id": "b8eb3b0f",
   "metadata": {},
   "outputs": [],
   "source": [
    "olympics_results = pd.read_excel('./data/olympics-data.xlsx', sheet_name='results')"
   ]
  },
  {
   "cell_type": "code",
   "execution_count": 8,
   "id": "1ca34a4f",
   "metadata": {},
   "outputs": [],
   "source": [
    "results_csv = pd.read_csv('./data/results.csv')"
   ]
  },
  {
   "cell_type": "code",
   "execution_count": 9,
   "id": "8365d1eb",
   "metadata": {},
   "outputs": [],
   "source": [
    "results_parquet = pd.read_parquet('./data/results.parquet')"
   ]
  },
  {
   "cell_type": "code",
   "execution_count": 10,
   "id": "c2d6682f",
   "metadata": {},
   "outputs": [],
   "source": [
    "results_feather = pd.read_feather('./data/results.feather')"
   ]
  }
 ],
 "metadata": {
  "kernelspec": {
   "display_name": "Python 3",
   "language": "python",
   "name": "python3"
  },
  "language_info": {
   "codemirror_mode": {
    "name": "ipython",
    "version": 3
   },
   "file_extension": ".py",
   "mimetype": "text/x-python",
   "name": "python",
   "nbconvert_exporter": "python",
   "pygments_lexer": "ipython3",
   "version": "3.13.3"
  }
 },
 "nbformat": 4,
 "nbformat_minor": 5
}
