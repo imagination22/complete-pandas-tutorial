{
 "cells": [
  {
   "cell_type": "markdown",
   "id": "38216b7e",
   "metadata": {},
   "source": [
    "## Count Smaller Numbers Than Each Element\n",
    "\n",
    "### Problem Statement\n",
    "Given an array `nums`, for each `nums[i]` find out how many numbers in the array are smaller than it. That is, for each `nums[i]`, count the number of valid indices `j` such that `j != i` and `nums[j] < nums[i]`.\n",
    "\n",
    "Return the answer in an array.\n",
    "\n",
    "### Examples\n",
    "\n",
    "#### Example 1\n",
    "**Input:** `nums = [8,1,2,2,3]`  \n",
    "**Output:** `[4,0,1,1,3]`  \n",
    "**Explanation:**  \n",
    "- `nums[0] = 8` → four smaller numbers: `[1, 2, 2, 3]`.  \n",
    "- `nums[1] = 1` → no smaller numbers.  \n",
    "- `nums[2] = 2` → one smaller number: `[1]`.  \n",
    "- `nums[3] = 2` → one smaller number: `[1]`.  \n",
    "- `nums[4] = 3` → three smaller numbers: `[1, 2, 2]`.\n",
    "\n",
    "#### Example 2\n",
    "**Input:** `nums = [6,5,4,8]`  \n",
    "**Output:** `[2,1,0,3]`\n",
    "\n",
    "#### Example 3\n",
    "**Input:** `nums = [7,7,7,7]`  \n",
    "**Output:** `[0,0,0,0]`\n",
    "\n",
    "### Constraints\n",
    "- `2 <= nums.length <= 500`\n",
    "- `0 <= nums[i] <= 100`\n"
   ]
  },
  {
   "cell_type": "code",
   "execution_count": 9,
   "id": "f54dcf40",
   "metadata": {},
   "outputs": [
    {
     "name": "stdout",
     "output_type": "stream",
     "text": [
      "[2, 1, 0, 3]\n"
     ]
    }
   ],
   "source": [
    "from typing import List\n",
    "# https://leetcode.com/problems/two-sum/\n",
    "class Solution:\n",
    "    def smallerNumbersThanCurrent(self, nums: List[int]) -> List[int]:\n",
    "        count_list = []\n",
    "        size  = len(nums)\n",
    "        for i in range(0,size):\n",
    "            count = 0\n",
    "            for j in range (0,size):\n",
    "                if nums[i] > nums[j] :\n",
    "                    count +=1\n",
    "                if j == size -1 :\n",
    "                    count_list.append(count)\n",
    "        return count_list\n",
    "\n",
    "sol = Solution()         \n",
    "print(sol.smallerNumbersThanCurrent([6,5,4,8]))"
   ]
  },
  {
   "cell_type": "markdown",
   "id": "6237c663",
   "metadata": {},
   "source": [
    "The above code is O(n2) , we can make it to nlog(n) : \n",
    "we can do sorting and using dictionary"
   ]
  },
  {
   "cell_type": "code",
   "execution_count": 10,
   "id": "bd606ca1",
   "metadata": {},
   "outputs": [
    {
     "name": "stdout",
     "output_type": "stream",
     "text": [
      "[2, 1, 0, 3]\n"
     ]
    }
   ],
   "source": [
    "from typing import List\n",
    "# https://leetcode.com/problems/two-sum/\n",
    "class Solution:\n",
    "    def smallerNumbersThanCurrent(self, nums: List[int]) -> List[int]:\n",
    "        counter_dict ={}\n",
    "        sorted_nums = sorted(nums)\n",
    "        for i in range(len(sorted_nums)):\n",
    "            if sorted_nums[i] not in counter_dict:\n",
    "                counter_dict[sorted_nums[i]] = i\n",
    "        return [counter_dict[num] for num in nums]\n",
    "sol = Solution()         \n",
    "print(sol.smallerNumbersThanCurrent([6,5,4,8]))"
   ]
  },
  {
   "cell_type": "markdown",
   "id": "e74ac364",
   "metadata": {},
   "source": [
    "counter_dict[sorted_nums[i]] = i.\n",
    "dict[key]= count i.e value"
   ]
  },
  {
   "cell_type": "code",
   "execution_count": null,
   "id": "73150c7d",
   "metadata": {},
   "outputs": [],
   "source": []
  }
 ],
 "metadata": {
  "kernelspec": {
   "display_name": "Python 3",
   "language": "python",
   "name": "python3"
  },
  "language_info": {
   "codemirror_mode": {
    "name": "ipython",
    "version": 3
   },
   "file_extension": ".py",
   "mimetype": "text/x-python",
   "name": "python",
   "nbconvert_exporter": "python",
   "pygments_lexer": "ipython3",
   "version": "3.13.3"
  }
 },
 "nbformat": 4,
 "nbformat_minor": 5
}
